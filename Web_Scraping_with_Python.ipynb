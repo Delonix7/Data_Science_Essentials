{
  "nbformat": 4,
  "nbformat_minor": 0,
  "metadata": {
    "colab": {
      "provenance": [],
      "authorship_tag": "ABX9TyOkvT3C2eJnDTpx+d2wRHTO",
      "include_colab_link": true
    },
    "kernelspec": {
      "name": "python3",
      "display_name": "Python 3"
    },
    "language_info": {
      "name": "python"
    }
  },
  "cells": [
    {
      "cell_type": "markdown",
      "metadata": {
        "id": "view-in-github",
        "colab_type": "text"
      },
      "source": [
        "<a href=\"https://colab.research.google.com/github/Delonix7/Data_Science_Essentials/blob/main/Web_Scraping_with_Python.ipynb\" target=\"_parent\"><img src=\"https://colab.research.google.com/assets/colab-badge.svg\" alt=\"Open In Colab\"/></a>"
      ]
    },
    {
      "cell_type": "markdown",
      "source": [
        "##Simple HTML scraping"
      ],
      "metadata": {
        "id": "gscGpkoXruHx"
      }
    },
    {
      "cell_type": "code",
      "execution_count": 268,
      "metadata": {
        "id": "JxbbVDJlnnNb"
      },
      "outputs": [],
      "source": [
        "# !pip install bs4 #Installs the package needed for web scraping\n",
        "# !pip install beautifulsoup4\n",
        "# to check the version of BeautifulSoup, import bs4 and run bs4.__version__"
      ]
    },
    {
      "cell_type": "code",
      "source": [
        "import re\n",
        "import requests\n",
        "import numpy as np\n",
        "import pandas as pd\n",
        "from bs4 import BeautifulSoup as bs"
      ],
      "metadata": {
        "id": "64kCcJbqserB"
      },
      "execution_count": 269,
      "outputs": []
    },
    {
      "cell_type": "markdown",
      "source": [
        "Few things to note in the SIMPLE_HTML string below, which essentially applies to all HTML documents. h1 = Header, p = paragraph, ul = unordered list, li = list item"
      ],
      "metadata": {
        "id": "KuVdTwzUuOKF"
      }
    },
    {
      "cell_type": "code",
      "source": [
        "SIMPLE_HTML ='''<html>\n",
        "<head></head>\n",
        "<body>\n",
        "<h1>This is a title</h1>\n",
        "<p class=\"subtitle\">Lorem ipsum dolor sit amet. Consectetur edipiscim elit.</p>\n",
        "<p>Here's another p without a class</p>\n",
        "<ul>\n",
        "  <li>Rolf</li>\n",
        "  <li>Charlie</li>\n",
        "  <li>Jen</li>\n",
        "  <li>Jose</li>\n",
        "</ul>\n",
        "</body>\n",
        "</html>'''"
      ],
      "metadata": {
        "id": "mptBCbrptqjN"
      },
      "execution_count": 270,
      "outputs": []
    },
    {
      "cell_type": "code",
      "source": [
        "# with open ('simple_html.html') as doc: #if html is save in a file, use this code to parse it to BeautifulSoup\n",
        "#   soup = bs(doc, 'html.parser')"
      ],
      "metadata": {
        "id": "LnBZmEXHyYYg"
      },
      "execution_count": 271,
      "outputs": []
    },
    {
      "cell_type": "code",
      "source": [
        "simple_soup = bs(SIMPLE_HTML, 'html.parser') # first argument is the html file or  string to be parsed.\n",
        "#second argument is the type of document being parsed."
      ],
      "metadata": {
        "id": "sKqF4DCRvHpQ"
      },
      "execution_count": 272,
      "outputs": []
    },
    {
      "cell_type": "code",
      "source": [
        "print(simple_soup.find('h1')) #goes throught the html document and find the first h1 tag\n",
        "#use find_all() if you want to find all h1 tags"
      ],
      "metadata": {
        "colab": {
          "base_uri": "https://localhost:8080/"
        },
        "id": "1fvK4gLxyww9",
        "outputId": "c7b26110-65cc-4dee-fb81-eb12729669ec"
      },
      "execution_count": 273,
      "outputs": [
        {
          "output_type": "stream",
          "name": "stdout",
          "text": [
            "<h1>This is a title</h1>\n"
          ]
        }
      ]
    },
    {
      "cell_type": "code",
      "source": [
        "print(simple_soup.find('h1').string) #adding .string prints out the content of the tag"
      ],
      "metadata": {
        "colab": {
          "base_uri": "https://localhost:8080/"
        },
        "id": "-6F5VRs3yyK6",
        "outputId": "e1a44715-da29-452b-90fa-e76e4c627b10"
      },
      "execution_count": 274,
      "outputs": [
        {
          "output_type": "stream",
          "name": "stdout",
          "text": [
            "This is a title\n"
          ]
        }
      ]
    },
    {
      "cell_type": "code",
      "source": [
        "for f in simple_soup.find_all('li'): # to access the contents of tags found with find_all(), loop over the contents\n",
        "  print(f.string)"
      ],
      "metadata": {
        "colab": {
          "base_uri": "https://localhost:8080/"
        },
        "id": "J67JlMgL1cyX",
        "outputId": "1eaf9105-16fc-4446-ba03-b588f4c72c4f"
      },
      "execution_count": 275,
      "outputs": [
        {
          "output_type": "stream",
          "name": "stdout",
          "text": [
            "Rolf\n",
            "Charlie\n",
            "Jen\n",
            "Jose\n"
          ]
        }
      ]
    },
    {
      "cell_type": "markdown",
      "source": [
        "### Let's write some functions to search the html document"
      ],
      "metadata": {
        "id": "e4f08KC22p_t"
      }
    },
    {
      "cell_type": "code",
      "source": [
        "def find_title(): #searches for the first h1 tag and returns its content as a string\n",
        "  h1_tag = simple_soup.find('h1')\n",
        "  return h1_tag.string"
      ],
      "metadata": {
        "id": "5cZx88So1-Gp"
      },
      "execution_count": 276,
      "outputs": []
    },
    {
      "cell_type": "code",
      "source": [
        "find_title()"
      ],
      "metadata": {
        "colab": {
          "base_uri": "https://localhost:8080/",
          "height": 36
        },
        "id": "pnfEUGAd92gG",
        "outputId": "410f967b-c722-43e9-a805-c0834f5ec72d"
      },
      "execution_count": 277,
      "outputs": [
        {
          "output_type": "execute_result",
          "data": {
            "text/plain": [
              "'This is a title'"
            ],
            "application/vnd.google.colaboratory.intrinsic+json": {
              "type": "string"
            }
          },
          "metadata": {},
          "execution_count": 277
        }
      ]
    },
    {
      "cell_type": "code",
      "source": [
        "def find_list_items(): #searches for all the li tags and returns it as a list of strings\n",
        "  list_items = simple_soup.find_all('li')\n",
        "  list_contents = [items.string for items in list_items]\n",
        "  return list_contents"
      ],
      "metadata": {
        "id": "cdXXqBRU3Em7"
      },
      "execution_count": 278,
      "outputs": []
    },
    {
      "cell_type": "code",
      "source": [
        "find_list_items()"
      ],
      "metadata": {
        "colab": {
          "base_uri": "https://localhost:8080/"
        },
        "id": "jHCJU4MO94UP",
        "outputId": "75a64dba-f4f7-478e-e0b7-885990ac5397"
      },
      "execution_count": 279,
      "outputs": [
        {
          "output_type": "execute_result",
          "data": {
            "text/plain": [
              "['Rolf', 'Charlie', 'Jen', 'Jose']"
            ]
          },
          "metadata": {},
          "execution_count": 279
        }
      ]
    },
    {
      "cell_type": "code",
      "source": [
        "def find_subtitle(): #searching for a specific tag using a class attribute\n",
        "  paragraph = simple_soup.find('p', {'class': 'subtitle'}) #pass the class attribute to find as a dictionary\n",
        "  return paragraph.string"
      ],
      "metadata": {
        "id": "3RVQUNxb3jfU"
      },
      "execution_count": 280,
      "outputs": []
    },
    {
      "cell_type": "code",
      "source": [
        "find_subtitle()"
      ],
      "metadata": {
        "colab": {
          "base_uri": "https://localhost:8080/",
          "height": 36
        },
        "id": "oyiTJhlF96P7",
        "outputId": "e5341e67-7823-4398-ff1a-ca3430a147e9"
      },
      "execution_count": 281,
      "outputs": [
        {
          "output_type": "execute_result",
          "data": {
            "text/plain": [
              "'Lorem ipsum dolor sit amet. Consectetur edipiscim elit.'"
            ],
            "application/vnd.google.colaboratory.intrinsic+json": {
              "type": "string"
            }
          },
          "metadata": {},
          "execution_count": 281
        }
      ]
    },
    {
      "cell_type": "code",
      "source": [
        "def find_other_paragraph(): #searches for all paragraphs without the attribute class = 'subtitle'\n",
        "  paragraphs = simple_soup.find_all('p') #finds all p tags. select() can be used in place of find_all\n",
        "  other_paragraph = [p.string for p in paragraphs if 'subtitle' not in p.attrs.get('class', [])]\n",
        "  # creates a list with list comprehension. Loops over the contents of paragraphs and finds the paragraphs\n",
        "  # with subtitle not in p.attrs.get('class', []) --> the get method returns the value for the key 'class'.\n",
        "  #if the key 'class' is not found, it returns None. The second arg [] will be returned if value is None.\n",
        "  return other_paragraph"
      ],
      "metadata": {
        "id": "a7E8DDCi51Wm"
      },
      "execution_count": 282,
      "outputs": []
    },
    {
      "cell_type": "code",
      "source": [
        "find_other_paragraph()"
      ],
      "metadata": {
        "colab": {
          "base_uri": "https://localhost:8080/"
        },
        "id": "DlN3mhAw974F",
        "outputId": "810ce7fd-846f-4548-8d53-586c3a0f562f"
      },
      "execution_count": 283,
      "outputs": [
        {
          "output_type": "execute_result",
          "data": {
            "text/plain": [
              "[\"Here's another p without a class\"]"
            ]
          },
          "metadata": {},
          "execution_count": 283
        }
      ]
    },
    {
      "cell_type": "markdown",
      "source": [
        "## More Complex Scraping"
      ],
      "metadata": {
        "id": "h-ubXCJu-H0x"
      }
    },
    {
      "cell_type": "markdown",
      "source": [
        "Few things to note in the ITEM_HTML string below, which essentially applies to all HTML documents. 'article' tag seems to contain all the information needed. \n",
        "div tag is just used to structure content in html.\n",
        "'a' is used for links, 'img' is an image tag, \n",
        "src is the property of the image tag showing the source of the image, \n",
        "'alt' property is the alternate text to show if the image cannot load for some reason.\n",
        "'i' tag is used for icons\n"
      ],
      "metadata": {
        "id": "rqAScAGpAdCh"
      }
    },
    {
      "cell_type": "code",
      "source": [
        "ITEM_HTML = '''<html><head></head><body>\n",
        "<li class=\"col-xs-6 col-sm-4 col-md-3 col-lg-3\">\n",
        "    <article class=\"product_pod\">\n",
        "            <div class=\"image_container\">\n",
        "                    <a href=\"catalogue/a-light-in-the-attic_1000/index.html\"><img src=\"media/cache/2c/da/2cdad67c44b002e7ead0cc35693c0e8b.jpg\" alt=\"A Light in the Attic\" class=\"thumbnail\"></a>\n",
        "            </div>\n",
        "            <p class=\"star-rating Three\">\n",
        "                    <i class=\"icon-star\"></i>\n",
        "                    <i class=\"icon-star\"></i>\n",
        "                    <i class=\"icon-star\"></i>\n",
        "                    <i class=\"icon-star\"></i>\n",
        "                    <i class=\"icon-star\"></i>\n",
        "            </p>\n",
        "            <h3><a href=\"catalogue/a-light-in-the-attic_1000/index.html\" title=\"A Light in the Attic\">A Light in the ...</a></h3>\n",
        "            <div class=\"product_price\">\n",
        "        <p class=\"price_color\">$51.77</p>\n",
        "<p class=\"instock availability\">\n",
        "    <i class=\"icon-ok\"></i>\n",
        "        In stock\n",
        "</p>\n",
        "    <form>\n",
        "        <button type=\"submit\" class=\"btn btn-primary btn-block\" data-loading-text=\"Adding...\">Add to basket</button>\n",
        "    </form>\n",
        "            </div>\n",
        "    </article>\n",
        "</li>\n",
        "</body></html>\n",
        "'''"
      ],
      "metadata": {
        "id": "5MqsrOKf8U09"
      },
      "execution_count": 284,
      "outputs": []
    },
    {
      "cell_type": "code",
      "source": [
        "item_html_soup = bs(ITEM_HTML, 'html.parser')"
      ],
      "metadata": {
        "id": "4L755Zd5-t6o"
      },
      "execution_count": 285,
      "outputs": []
    },
    {
      "cell_type": "code",
      "source": [
        "print(item_html_soup.select_one('article.product_pod h3 a').attrs) #prints the dictionary of attributes of the css locator\n",
        "#Note: the attributes of the tags become the keys of the attrs dictionary"
      ],
      "metadata": {
        "colab": {
          "base_uri": "https://localhost:8080/"
        },
        "id": "DiUEYT9yJLac",
        "outputId": "c76e9148-a83b-4868-db65-764a92f62313"
      },
      "execution_count": 286,
      "outputs": [
        {
          "output_type": "stream",
          "name": "stdout",
          "text": [
            "{'href': 'catalogue/a-light-in-the-attic_1000/index.html', 'title': 'A Light in the Attic'}\n"
          ]
        }
      ]
    },
    {
      "cell_type": "code",
      "source": [
        "print(item_html_soup.select_one('article.product_pod h3 a').attrs.items())"
      ],
      "metadata": {
        "colab": {
          "base_uri": "https://localhost:8080/"
        },
        "id": "IWaXmDlF-0he",
        "outputId": "98dbed8a-cbf2-47c4-f292-c2d164132c4c"
      },
      "execution_count": 287,
      "outputs": [
        {
          "output_type": "stream",
          "name": "stdout",
          "text": [
            "dict_items([('href', 'catalogue/a-light-in-the-attic_1000/index.html'), ('title', 'A Light in the Attic')])\n"
          ]
        }
      ]
    },
    {
      "cell_type": "code",
      "source": [
        "print(item_html_soup.select_one('article.product_pod h3 a').attrs['href'])"
      ],
      "metadata": {
        "colab": {
          "base_uri": "https://localhost:8080/"
        },
        "id": "G2ZK3ydhPVTZ",
        "outputId": "af8bbece-3710-4d1b-b7ab-c9ef88c30931"
      },
      "execution_count": 288,
      "outputs": [
        {
          "output_type": "stream",
          "name": "stdout",
          "text": [
            "catalogue/a-light-in-the-attic_1000/index.html\n"
          ]
        }
      ]
    },
    {
      "cell_type": "code",
      "source": [
        "new_tag = item_html_soup.select('article div.image_container a img')\n",
        "print(new_tag[0].attrs.keys())"
      ],
      "metadata": {
        "colab": {
          "base_uri": "https://localhost:8080/"
        },
        "id": "P-G410MMJlvH",
        "outputId": "bf76e48a-6264-4278-bb4f-69aa64994d3c"
      },
      "execution_count": 289,
      "outputs": [
        {
          "output_type": "stream",
          "name": "stdout",
          "text": [
            "dict_keys(['src', 'alt', 'class'])\n"
          ]
        }
      ]
    },
    {
      "cell_type": "code",
      "source": [
        "def find_item_name():\n",
        "  locator = 'article.product_pod h3 a' #CSS locator\n",
        "  item_link = item_html_soup.select_one(locator) #select\n",
        "  print(type(item_link))\n",
        "  item_name = item_link.attrs['title']\n",
        "  return item_name\n"
      ],
      "metadata": {
        "id": "Bncn1vQOEZsJ"
      },
      "execution_count": 290,
      "outputs": []
    },
    {
      "cell_type": "code",
      "source": [
        "find_item_name()"
      ],
      "metadata": {
        "colab": {
          "base_uri": "https://localhost:8080/",
          "height": 53
        },
        "id": "yBZ1a47TGrfc",
        "outputId": "ea71e216-f587-467b-f892-170b71a6ef55"
      },
      "execution_count": 291,
      "outputs": [
        {
          "output_type": "stream",
          "name": "stdout",
          "text": [
            "<class 'bs4.element.Tag'>\n"
          ]
        },
        {
          "output_type": "execute_result",
          "data": {
            "text/plain": [
              "'A Light in the Attic'"
            ],
            "application/vnd.google.colaboratory.intrinsic+json": {
              "type": "string"
            }
          },
          "metadata": {},
          "execution_count": 291
        }
      ]
    },
    {
      "cell_type": "code",
      "source": [
        "def find_item_link():\n",
        "  locator = 'article.product_pod h3 a' #CSS locator\n",
        "  item_link = item_html_soup.select_one(locator) .attrs['href']\n",
        "  return item_link"
      ],
      "metadata": {
        "id": "VojB-s1e_Jnu"
      },
      "execution_count": 292,
      "outputs": []
    },
    {
      "cell_type": "code",
      "source": [
        "find_item_link()"
      ],
      "metadata": {
        "colab": {
          "base_uri": "https://localhost:8080/",
          "height": 36
        },
        "id": "p1cOFVbLQaQF",
        "outputId": "2458a3e9-ed73-4fab-817a-1479f2b61f43"
      },
      "execution_count": 293,
      "outputs": [
        {
          "output_type": "execute_result",
          "data": {
            "text/plain": [
              "'catalogue/a-light-in-the-attic_1000/index.html'"
            ],
            "application/vnd.google.colaboratory.intrinsic+json": {
              "type": "string"
            }
          },
          "metadata": {},
          "execution_count": 293
        }
      ]
    },
    {
      "cell_type": "code",
      "source": [
        "def find_item_price(): \n",
        "  price = item_html_soup.select_one('article.product_pod p.price_color').string\n",
        "  price = float(price.strip('$'))\n",
        "  print(f'Discounted price = {price * 0.8}')\n",
        "  return f'Actual price = {price}'"
      ],
      "metadata": {
        "id": "LW_U3js1QodM"
      },
      "execution_count": 294,
      "outputs": []
    },
    {
      "cell_type": "code",
      "source": [
        "find_item_price()"
      ],
      "metadata": {
        "colab": {
          "base_uri": "https://localhost:8080/",
          "height": 53
        },
        "id": "WEL5ceqJQcxM",
        "outputId": "d19246c1-3b27-43ab-e991-a7d9bab57213"
      },
      "execution_count": 295,
      "outputs": [
        {
          "output_type": "stream",
          "name": "stdout",
          "text": [
            "Discounted price = 41.416000000000004\n"
          ]
        },
        {
          "output_type": "execute_result",
          "data": {
            "text/plain": [
              "'Actual price = 51.77'"
            ],
            "application/vnd.google.colaboratory.intrinsic+json": {
              "type": "string"
            }
          },
          "metadata": {},
          "execution_count": 295
        }
      ]
    },
    {
      "cell_type": "code",
      "source": [
        "# other_paragraph = [p.string for p in paragraphs if 'subtitle' not in p.attrs.get('class', [])]"
      ],
      "metadata": {
        "id": "3XYZuF-lI31E"
      },
      "execution_count": 296,
      "outputs": []
    },
    {
      "cell_type": "code",
      "source": [
        "locator = 'article.product_pod p.star-rating'\n",
        "star_rating_tag = item_html_soup.select_one(locator)\n",
        "classes = star_rating_tag.attrs['class']\n",
        "rating_classes = [c for c in classes if c != 'star-rating']\n",
        "rating_classes"
      ],
      "metadata": {
        "id": "_WgWUH18ek2f",
        "colab": {
          "base_uri": "https://localhost:8080/"
        },
        "outputId": "d5c59420-80ad-404d-802b-1ac86efea5db"
      },
      "execution_count": 297,
      "outputs": [
        {
          "output_type": "execute_result",
          "data": {
            "text/plain": [
              "['Three']"
            ]
          },
          "metadata": {},
          "execution_count": 297
        }
      ]
    },
    {
      "cell_type": "code",
      "source": [
        "type(star_rating_tag)"
      ],
      "metadata": {
        "colab": {
          "base_uri": "https://localhost:8080/"
        },
        "id": "6DpymTJyHpJD",
        "outputId": "074969b6-c9af-4d9e-b6e9-c807352d5a92"
      },
      "execution_count": 298,
      "outputs": [
        {
          "output_type": "execute_result",
          "data": {
            "text/plain": [
              "bs4.element.Tag"
            ]
          },
          "metadata": {},
          "execution_count": 298
        }
      ]
    },
    {
      "cell_type": "markdown",
      "source": [
        "##Creating a class for scraping Example"
      ],
      "metadata": {
        "id": "eKhJOLhPLlnW"
      }
    },
    {
      "cell_type": "code",
      "source": [
        "class ParsedItemLocators:\n",
        "  '''\n",
        "  Locators for an item in the HTML page.\n",
        "\n",
        "  This allows us to easily see what our code will be looking at as well as change it quickly if we\n",
        "  notice it is now different.\n",
        "  '''\n",
        "  NAME_LOCATOR = 'article.product_pod h3 a'\n",
        "  LINK_LOCATOR = 'article.product_pod h3 a'\n",
        "  PRICE_LOCATOR = 'article.product_pod p.price_color'\n",
        "  RATING_LOCATOR = 'article.product_pod p.star-rating'\n",
        "\n",
        "class ParsedItem:\n",
        "  '''\n",
        "  A class to take in an HTML page or part of it and find properties of an item in it.\n",
        "  '''\n",
        "\n",
        "  def __init__(self, page):\n",
        "    self.item_html_soup = bs(page, 'html.parser')\n",
        "    \n",
        "  def price(self): \n",
        "    locator = ParsedItemLocators.PRICE_LOCATOR\n",
        "    price = self.item_html_soup.select_one(locator).string\n",
        "    price = float(price.strip('$'))\n",
        "    print(f'Discounted price = {price * 0.8}')\n",
        "    return f'Actual price = {price}'\n",
        "\n",
        "  def link(self):\n",
        "    locator = ParsedItemLocators.LINK_LOCATOR #CSS locator\n",
        "    item_link = self.item_html_soup.select_one(locator) .attrs['href']\n",
        "    return item_link\n",
        "\n",
        "  def name(self):\n",
        "    locator = ParsedItemLocators.NAME_LOCATOR #CSS locator\n",
        "    item_link = self.item_html_soup.select_one(locator) #select\n",
        "    item_name = item_link.attrs['title']\n",
        "    return item_name\n",
        "\n",
        "  def rating(self):\n",
        "    locator = ParsedItemLocators.RATING_LOCATOR\n",
        "    star_rating_tag = self.item_html_soup.select_one(locator)\n",
        "    classes = star_rating_tag.attrs['class']\n",
        "    rating_classes = [c for c in classes if c != 'star-rating']\n",
        "    return rating_classes[0]"
      ],
      "metadata": {
        "id": "plyDA8dQHqcn"
      },
      "execution_count": 299,
      "outputs": []
    },
    {
      "cell_type": "code",
      "source": [
        "item = ParsedItem(ITEM_HTML)"
      ],
      "metadata": {
        "id": "olWcjlTfOZdC"
      },
      "execution_count": 300,
      "outputs": []
    },
    {
      "cell_type": "code",
      "source": [
        "print(item.price())"
      ],
      "metadata": {
        "colab": {
          "base_uri": "https://localhost:8080/"
        },
        "id": "c0zOTk74BiFF",
        "outputId": "3305619b-9783-451c-f68d-475b79e8d784"
      },
      "execution_count": 301,
      "outputs": [
        {
          "output_type": "stream",
          "name": "stdout",
          "text": [
            "Discounted price = 41.416000000000004\n",
            "Actual price = 51.77\n"
          ]
        }
      ]
    },
    {
      "cell_type": "markdown",
      "source": [
        "##Using Requests to get webpage content"
      ],
      "metadata": {
        "id": "aY3-aQ_UXbcW"
      }
    },
    {
      "cell_type": "code",
      "source": [
        "page = requests.get('http://www.example.com')"
      ],
      "metadata": {
        "id": "0kOMlTlTXksb"
      },
      "execution_count": 302,
      "outputs": []
    },
    {
      "cell_type": "code",
      "source": [
        "page"
      ],
      "metadata": {
        "colab": {
          "base_uri": "https://localhost:8080/"
        },
        "id": "Hyszpqv7FYHF",
        "outputId": "1df4bbb6-b383-4ffa-f2b7-20c4f7977446"
      },
      "execution_count": 303,
      "outputs": [
        {
          "output_type": "execute_result",
          "data": {
            "text/plain": [
              "<Response [200]>"
            ]
          },
          "metadata": {},
          "execution_count": 303
        }
      ]
    },
    {
      "cell_type": "code",
      "source": [
        "soup = bs(page.content, 'html.parser')"
      ],
      "metadata": {
        "id": "w24veSf7FFsE"
      },
      "execution_count": 304,
      "outputs": []
    },
    {
      "cell_type": "code",
      "source": [
        "headers = soup.select('h1')"
      ],
      "metadata": {
        "id": "AEEJIH0DGGZT"
      },
      "execution_count": 305,
      "outputs": []
    },
    {
      "cell_type": "code",
      "source": [
        "type(headers)"
      ],
      "metadata": {
        "colab": {
          "base_uri": "https://localhost:8080/"
        },
        "id": "zkp0aHBzB6Tj",
        "outputId": "042ce6e4-7dd8-4ec5-e07a-bd7cdc7fb47d"
      },
      "execution_count": 306,
      "outputs": [
        {
          "output_type": "execute_result",
          "data": {
            "text/plain": [
              "list"
            ]
          },
          "metadata": {},
          "execution_count": 306
        }
      ]
    },
    {
      "cell_type": "markdown",
      "source": [],
      "metadata": {
        "id": "-Xl92OXiHKyX"
      }
    },
    {
      "cell_type": "markdown",
      "source": [
        "## Scraping Wikipedia"
      ],
      "metadata": {
        "id": "4Lz_XXev4FFb"
      }
    },
    {
      "cell_type": "code",
      "source": [
        "wiki_url = 'https://en.wikipedia.org/wiki/List_of_current_members_of_the_United_States_House_of_Representatives'\n",
        "table_id = 'votingmembers'\n",
        "\n",
        "response = requests.get(wiki_url)\n",
        "soup = bs(response.text, 'html.parser')"
      ],
      "metadata": {
        "id": "g1r8rqtO__r8"
      },
      "execution_count": 307,
      "outputs": []
    },
    {
      "cell_type": "code",
      "source": [
        "congress_table = soup.find('table', attrs= {'id' : table_id})"
      ],
      "metadata": {
        "id": "Y-KnWUXvHnur"
      },
      "execution_count": 308,
      "outputs": []
    },
    {
      "cell_type": "code",
      "source": [
        "df = pd.read_html(str(congress_table))"
      ],
      "metadata": {
        "id": "aJ4wZHNgHw27"
      },
      "execution_count": 309,
      "outputs": []
    },
    {
      "cell_type": "markdown",
      "source": [
        "##Scraping 100 meters track event from Wikipedia"
      ],
      "metadata": {
        "id": "QqHiQnSXNF6P"
      }
    },
    {
      "cell_type": "code",
      "source": [
        "url = 'https://en.wikipedia.org/wiki/100_metres'\n",
        "response = requests.get(url).content\n",
        "soup_100 = bs(response, 'html.parser')"
      ],
      "metadata": {
        "id": "YdVAnbwSNJbT"
      },
      "execution_count": 310,
      "outputs": []
    },
    {
      "cell_type": "code",
      "source": [
        "locators  = 'div.mw-parser-output table.wikitable'"
      ],
      "metadata": {
        "id": "HtvyAd81Naxf"
      },
      "execution_count": 311,
      "outputs": []
    },
    {
      "cell_type": "code",
      "source": [
        "table = soup_100.select_one(locators)"
      ],
      "metadata": {
        "id": "GmiVhLixNb8a"
      },
      "execution_count": 312,
      "outputs": []
    },
    {
      "cell_type": "code",
      "source": [
        "df = pd.read_html(str(table))"
      ],
      "metadata": {
        "id": "UU1uWZufRBrh"
      },
      "execution_count": 313,
      "outputs": []
    },
    {
      "cell_type": "code",
      "source": [
        "df = df[0]"
      ],
      "metadata": {
        "id": "6579pWH8Rfiq"
      },
      "execution_count": 314,
      "outputs": []
    },
    {
      "cell_type": "code",
      "source": [
        "df"
      ],
      "metadata": {
        "colab": {
          "base_uri": "https://localhost:8080/",
          "height": 269
        },
        "id": "vAUKdJcSSDZ2",
        "outputId": "bd41061c-e581-4680-fe63-2c6229df7391"
      },
      "execution_count": 315,
      "outputs": [
        {
          "output_type": "execute_result",
          "data": {
            "text/plain": [
              "                                             Area       Men             \\\n",
              "                                             Area  Time (s) Wind (m/s)   \n",
              "0                                Africa (records)   9.77[A]        1.2   \n",
              "1                                  Asia (records)      9.83        0.9   \n",
              "2                                Europe (records)      9.80        0.1   \n",
              "3  North, Central America and Caribbean (records)   9.58 WR        0.9   \n",
              "4                               Oceania (records)      9.93        1.8   \n",
              "5                         South America (records)  10.00[A]        1.6   \n",
              "\n",
              "                                     Women             \\\n",
              "              Athlete     Nation  Time (s) Wind (m/s)   \n",
              "0  Ferdinand Omanyala      Kenya     10.72       +1.4   \n",
              "1         Su Bingtian      China     10.79        0.0   \n",
              "2      Marcell Jacobs      Italy     10.73       +2.0   \n",
              "3          Usain Bolt    Jamaica  10.49 WR     0.0[a]   \n",
              "4     Patrick Johnson  Australia     11.08       +0.7   \n",
              "5     Robson da Silva     Brazil     10.91       −0.2   \n",
              "\n",
              "                                            \n",
              "                    Athlete         Nation  \n",
              "0        Marie-Josée Ta Lou    Ivory Coast  \n",
              "1                 Li Xuemei          China  \n",
              "2           Christine Arron         France  \n",
              "3  Florence Griffith-Joyner  United States  \n",
              "4                 Zoe Hobbs    New Zealand  \n",
              "5          Rosângela Santos         Brazil  "
            ],
            "text/html": [
              "\n",
              "  <div id=\"df-e6a5c8f5-850e-49f6-9c19-5710c435ba79\">\n",
              "    <div class=\"colab-df-container\">\n",
              "      <div>\n",
              "<style scoped>\n",
              "    .dataframe tbody tr th:only-of-type {\n",
              "        vertical-align: middle;\n",
              "    }\n",
              "\n",
              "    .dataframe tbody tr th {\n",
              "        vertical-align: top;\n",
              "    }\n",
              "\n",
              "    .dataframe thead tr th {\n",
              "        text-align: left;\n",
              "    }\n",
              "</style>\n",
              "<table border=\"1\" class=\"dataframe\">\n",
              "  <thead>\n",
              "    <tr>\n",
              "      <th></th>\n",
              "      <th>Area</th>\n",
              "      <th colspan=\"4\" halign=\"left\">Men</th>\n",
              "      <th colspan=\"4\" halign=\"left\">Women</th>\n",
              "    </tr>\n",
              "    <tr>\n",
              "      <th></th>\n",
              "      <th>Area</th>\n",
              "      <th>Time (s)</th>\n",
              "      <th>Wind (m/s)</th>\n",
              "      <th>Athlete</th>\n",
              "      <th>Nation</th>\n",
              "      <th>Time (s)</th>\n",
              "      <th>Wind (m/s)</th>\n",
              "      <th>Athlete</th>\n",
              "      <th>Nation</th>\n",
              "    </tr>\n",
              "  </thead>\n",
              "  <tbody>\n",
              "    <tr>\n",
              "      <th>0</th>\n",
              "      <td>Africa (records)</td>\n",
              "      <td>9.77[A]</td>\n",
              "      <td>1.2</td>\n",
              "      <td>Ferdinand Omanyala</td>\n",
              "      <td>Kenya</td>\n",
              "      <td>10.72</td>\n",
              "      <td>+1.4</td>\n",
              "      <td>Marie-Josée Ta Lou</td>\n",
              "      <td>Ivory Coast</td>\n",
              "    </tr>\n",
              "    <tr>\n",
              "      <th>1</th>\n",
              "      <td>Asia (records)</td>\n",
              "      <td>9.83</td>\n",
              "      <td>0.9</td>\n",
              "      <td>Su Bingtian</td>\n",
              "      <td>China</td>\n",
              "      <td>10.79</td>\n",
              "      <td>0.0</td>\n",
              "      <td>Li Xuemei</td>\n",
              "      <td>China</td>\n",
              "    </tr>\n",
              "    <tr>\n",
              "      <th>2</th>\n",
              "      <td>Europe (records)</td>\n",
              "      <td>9.80</td>\n",
              "      <td>0.1</td>\n",
              "      <td>Marcell Jacobs</td>\n",
              "      <td>Italy</td>\n",
              "      <td>10.73</td>\n",
              "      <td>+2.0</td>\n",
              "      <td>Christine Arron</td>\n",
              "      <td>France</td>\n",
              "    </tr>\n",
              "    <tr>\n",
              "      <th>3</th>\n",
              "      <td>North, Central America and Caribbean (records)</td>\n",
              "      <td>9.58 WR</td>\n",
              "      <td>0.9</td>\n",
              "      <td>Usain Bolt</td>\n",
              "      <td>Jamaica</td>\n",
              "      <td>10.49 WR</td>\n",
              "      <td>0.0[a]</td>\n",
              "      <td>Florence Griffith-Joyner</td>\n",
              "      <td>United States</td>\n",
              "    </tr>\n",
              "    <tr>\n",
              "      <th>4</th>\n",
              "      <td>Oceania (records)</td>\n",
              "      <td>9.93</td>\n",
              "      <td>1.8</td>\n",
              "      <td>Patrick Johnson</td>\n",
              "      <td>Australia</td>\n",
              "      <td>11.08</td>\n",
              "      <td>+0.7</td>\n",
              "      <td>Zoe Hobbs</td>\n",
              "      <td>New Zealand</td>\n",
              "    </tr>\n",
              "    <tr>\n",
              "      <th>5</th>\n",
              "      <td>South America (records)</td>\n",
              "      <td>10.00[A]</td>\n",
              "      <td>1.6</td>\n",
              "      <td>Robson da Silva</td>\n",
              "      <td>Brazil</td>\n",
              "      <td>10.91</td>\n",
              "      <td>−0.2</td>\n",
              "      <td>Rosângela Santos</td>\n",
              "      <td>Brazil</td>\n",
              "    </tr>\n",
              "  </tbody>\n",
              "</table>\n",
              "</div>\n",
              "      <button class=\"colab-df-convert\" onclick=\"convertToInteractive('df-e6a5c8f5-850e-49f6-9c19-5710c435ba79')\"\n",
              "              title=\"Convert this dataframe to an interactive table.\"\n",
              "              style=\"display:none;\">\n",
              "        \n",
              "  <svg xmlns=\"http://www.w3.org/2000/svg\" height=\"24px\"viewBox=\"0 0 24 24\"\n",
              "       width=\"24px\">\n",
              "    <path d=\"M0 0h24v24H0V0z\" fill=\"none\"/>\n",
              "    <path d=\"M18.56 5.44l.94 2.06.94-2.06 2.06-.94-2.06-.94-.94-2.06-.94 2.06-2.06.94zm-11 1L8.5 8.5l.94-2.06 2.06-.94-2.06-.94L8.5 2.5l-.94 2.06-2.06.94zm10 10l.94 2.06.94-2.06 2.06-.94-2.06-.94-.94-2.06-.94 2.06-2.06.94z\"/><path d=\"M17.41 7.96l-1.37-1.37c-.4-.4-.92-.59-1.43-.59-.52 0-1.04.2-1.43.59L10.3 9.45l-7.72 7.72c-.78.78-.78 2.05 0 2.83L4 21.41c.39.39.9.59 1.41.59.51 0 1.02-.2 1.41-.59l7.78-7.78 2.81-2.81c.8-.78.8-2.07 0-2.86zM5.41 20L4 18.59l7.72-7.72 1.47 1.35L5.41 20z\"/>\n",
              "  </svg>\n",
              "      </button>\n",
              "      \n",
              "  <style>\n",
              "    .colab-df-container {\n",
              "      display:flex;\n",
              "      flex-wrap:wrap;\n",
              "      gap: 12px;\n",
              "    }\n",
              "\n",
              "    .colab-df-convert {\n",
              "      background-color: #E8F0FE;\n",
              "      border: none;\n",
              "      border-radius: 50%;\n",
              "      cursor: pointer;\n",
              "      display: none;\n",
              "      fill: #1967D2;\n",
              "      height: 32px;\n",
              "      padding: 0 0 0 0;\n",
              "      width: 32px;\n",
              "    }\n",
              "\n",
              "    .colab-df-convert:hover {\n",
              "      background-color: #E2EBFA;\n",
              "      box-shadow: 0px 1px 2px rgba(60, 64, 67, 0.3), 0px 1px 3px 1px rgba(60, 64, 67, 0.15);\n",
              "      fill: #174EA6;\n",
              "    }\n",
              "\n",
              "    [theme=dark] .colab-df-convert {\n",
              "      background-color: #3B4455;\n",
              "      fill: #D2E3FC;\n",
              "    }\n",
              "\n",
              "    [theme=dark] .colab-df-convert:hover {\n",
              "      background-color: #434B5C;\n",
              "      box-shadow: 0px 1px 3px 1px rgba(0, 0, 0, 0.15);\n",
              "      filter: drop-shadow(0px 1px 2px rgba(0, 0, 0, 0.3));\n",
              "      fill: #FFFFFF;\n",
              "    }\n",
              "  </style>\n",
              "\n",
              "      <script>\n",
              "        const buttonEl =\n",
              "          document.querySelector('#df-e6a5c8f5-850e-49f6-9c19-5710c435ba79 button.colab-df-convert');\n",
              "        buttonEl.style.display =\n",
              "          google.colab.kernel.accessAllowed ? 'block' : 'none';\n",
              "\n",
              "        async function convertToInteractive(key) {\n",
              "          const element = document.querySelector('#df-e6a5c8f5-850e-49f6-9c19-5710c435ba79');\n",
              "          const dataTable =\n",
              "            await google.colab.kernel.invokeFunction('convertToInteractive',\n",
              "                                                     [key], {});\n",
              "          if (!dataTable) return;\n",
              "\n",
              "          const docLinkHtml = 'Like what you see? Visit the ' +\n",
              "            '<a target=\"_blank\" href=https://colab.research.google.com/notebooks/data_table.ipynb>data table notebook</a>'\n",
              "            + ' to learn more about interactive tables.';\n",
              "          element.innerHTML = '';\n",
              "          dataTable['output_type'] = 'display_data';\n",
              "          await google.colab.output.renderOutput(dataTable, element);\n",
              "          const docLink = document.createElement('div');\n",
              "          docLink.innerHTML = docLinkHtml;\n",
              "          element.appendChild(docLink);\n",
              "        }\n",
              "      </script>\n",
              "    </div>\n",
              "  </div>\n",
              "  "
            ]
          },
          "metadata": {},
          "execution_count": 315
        }
      ]
    },
    {
      "cell_type": "code",
      "source": [
        "locator2 = 'div.mw-parser-output table.wikitable.sortable'"
      ],
      "metadata": {
        "id": "uESM8g5cScGB"
      },
      "execution_count": 316,
      "outputs": []
    },
    {
      "cell_type": "code",
      "source": [
        "table_2 = soup_100.select_one(locator2)"
      ],
      "metadata": {
        "id": "Xt1GqlNWS9pr"
      },
      "execution_count": 317,
      "outputs": []
    },
    {
      "cell_type": "code",
      "source": [
        "df2 = pd.read_html(str(table_2))"
      ],
      "metadata": {
        "id": "33cBNPcZTESf"
      },
      "execution_count": 318,
      "outputs": []
    },
    {
      "cell_type": "code",
      "source": [
        "df2 = df2[0]"
      ],
      "metadata": {
        "id": "9K0OXcpnTmwN"
      },
      "execution_count": 319,
      "outputs": []
    },
    {
      "cell_type": "code",
      "source": [
        "df2.columns = ['athlete_num', 'performance', 'time(s)', 'wind(m/s)', 'athlete', 'nation', 'date', 'place', 'ref']"
      ],
      "metadata": {
        "id": "8nRqP2ghU36v"
      },
      "execution_count": 320,
      "outputs": []
    },
    {
      "cell_type": "code",
      "source": [
        "df2.drop(['athlete_num', 'ref'], axis = 1, inplace = True)"
      ],
      "metadata": {
        "id": "ODHEz_iFV9Rf"
      },
      "execution_count": 321,
      "outputs": []
    },
    {
      "cell_type": "code",
      "source": [
        "df2.loc[df2['athlete'].str.contains('Bolt'), 'athlete'] = 'Usain Bolt'\n",
        "df2.loc[df2['athlete'].str.contains('Gay'), 'athlete'] = 'Tyson Gay'\n",
        "df2.loc[df2['athlete'].str.contains('Blake'), 'athlete'] = 'Yohan Blake'\n",
        "df2.loc[df2['athlete'].str.contains('Gatlin'), 'athlete'] = 'Justin Gatlin'\n",
        "df2.loc[df2['athlete'].str.contains('Powell'), 'athlete'] = 'Asafa Powell'\n",
        "df2.loc[df2['athlete'].str.contains('Bromell'), 'athlete'] = 'Trayvon Bromell'\n",
        "df2.loc[df2['athlete'].str.contains('Kerley'), 'athlete'] = 'Fred Kerley'"
      ],
      "metadata": {
        "id": "AFYV7FrRWfXN"
      },
      "execution_count": 322,
      "outputs": []
    },
    {
      "cell_type": "code",
      "source": [
        "df2_no_nan = df2.dropna(subset = ['nation'], axis = 0)"
      ],
      "metadata": {
        "id": "IkAuUpR_ctIR"
      },
      "execution_count": 323,
      "outputs": []
    },
    {
      "cell_type": "code",
      "source": [
        "athletes = list(df2.athlete.unique())"
      ],
      "metadata": {
        "id": "RAFq0CHPlobh"
      },
      "execution_count": 324,
      "outputs": []
    },
    {
      "cell_type": "code",
      "source": [
        "at_nation = dict(list(zip(df2_no_nan.athlete, df2_no_nan.nation)))"
      ],
      "metadata": {
        "id": "LxrpjWdRbCRq"
      },
      "execution_count": 325,
      "outputs": []
    },
    {
      "cell_type": "code",
      "source": [
        "df2['nation'] = df2['athlete'].map(at_nation)"
      ],
      "metadata": {
        "id": "I7WhEUJVnKE5"
      },
      "execution_count": 326,
      "outputs": []
    },
    {
      "cell_type": "code",
      "source": [
        "df2.shape"
      ],
      "metadata": {
        "colab": {
          "base_uri": "https://localhost:8080/"
        },
        "id": "9US61641ly5F",
        "outputId": "7cdd4878-5949-4f11-e2ff-2f051841681b"
      },
      "execution_count": 327,
      "outputs": [
        {
          "output_type": "execute_result",
          "data": {
            "text/plain": [
              "(59, 7)"
            ]
          },
          "metadata": {},
          "execution_count": 327
        }
      ]
    },
    {
      "cell_type": "code",
      "source": [
        "df2"
      ],
      "metadata": {
        "colab": {
          "base_uri": "https://localhost:8080/",
          "height": 1000
        },
        "id": "-uohl3a-kVu5",
        "outputId": "80770651-b16a-4b81-e350-ef6a2657f821"
      },
      "execution_count": 328,
      "outputs": [
        {
          "output_type": "execute_result",
          "data": {
            "text/plain": [
              "    performance  time(s) wind(m/s)             athlete               nation  \\\n",
              "0           1.0     9.58      +0.9          Usain Bolt              Jamaica   \n",
              "1           2.0     9.63      +1.5          Usain Bolt              Jamaica   \n",
              "2           3.0     9.69      ±0.0          Usain Bolt              Jamaica   \n",
              "3           3.0     9.69      +2.0           Tyson Gay        United States   \n",
              "4           3.0     9.69      −0.1         Yohan Blake              Jamaica   \n",
              "5           6.0     9.71      +0.9           Tyson Gay        United States   \n",
              "6           7.0     9.72      +1.7          Usain Bolt              Jamaica   \n",
              "7           7.0     9.72      +0.2        Asafa Powell              Jamaica   \n",
              "8           9.0     9.74      +1.7        Asafa Powell              Jamaica   \n",
              "9           9.0     9.74      +0.9       Justin Gatlin        United States   \n",
              "10         11.0     9.75      +1.1         Yohan Blake              Jamaica   \n",
              "11         11.0     9.75      +1.5         Yohan Blake              Jamaica   \n",
              "12         11.0     9.75      +0.9       Justin Gatlin        United States   \n",
              "13         11.0     9.75      +1.4       Justin Gatlin        United States   \n",
              "14         15.0     9.76      +1.8          Usain Bolt              Jamaica   \n",
              "15         15.0     9.76      +1.3          Usain Bolt              Jamaica   \n",
              "16         15.0     9.76      −0.1          Usain Bolt              Jamaica   \n",
              "17         15.0     9.76      +1.4         Yohan Blake              Jamaica   \n",
              "18         15.0     9.76      +0.6   Christian Coleman        United States   \n",
              "19         15.0  9.76[A]      +1.2     Trayvon Bromell        United States   \n",
              "20         15.0     9.76      +1.4         Fred Kerley        United States   \n",
              "21         22.0     9.77      +1.6        Asafa Powell              Jamaica   \n",
              "22         22.0     9.77      +1.5        Asafa Powell              Jamaica   \n",
              "23         22.0     9.77      +1.0        Asafa Powell              Jamaica   \n",
              "24         22.0     9.77      +1.0           Tyson Gay        United States   \n",
              "25         22.0     9.77      −1.3          Usain Bolt              Jamaica   \n",
              "26         22.0     9.77      +0.9        Asafa Powell              Jamaica   \n",
              "27         22.0     9.77      +0.4           Tyson Gay        United States   \n",
              "28         22.0     9.77      −0.3          Usain Bolt              Jamaica   \n",
              "29         22.0     9.77      +0.6       Justin Gatlin        United States   \n",
              "30         22.0     9.77      +0.9       Justin Gatlin        United States   \n",
              "31         22.0     9.77      +1.5     Trayvon Bromell        United States   \n",
              "32         22.0  9.77[A]      +1.2  Ferdinand Omanyala                Kenya   \n",
              "33         22.0     9.77      +1.8         Fred Kerley        United States   \n",
              "34          NaN     9.78      +0.9        Nesta Carter              Jamaica   \n",
              "35          NaN     9.79      +0.1      Maurice Greene        United States   \n",
              "36          NaN     9.80      +1.3      Steve Mullings              Jamaica   \n",
              "37          NaN     9.80      +0.1      Marcell Jacobs                Italy   \n",
              "38          NaN     9.82      +1.7    Richard Thompson  Trinidad and Tobago   \n",
              "39          NaN     9.83      +0.9         Su Bingtian                China   \n",
              "40          NaN     9.83      +0.9        Ronnie Baker        United States   \n",
              "41          NaN     9.84      +0.7      Donovan Bailey               Canada   \n",
              "42          NaN     9.84      +0.2         Bruny Surin               Canada   \n",
              "43          NaN     9.84      +1.2       Akani Simbine         South Africa   \n",
              "44          NaN     9.85      +1.2       Leroy Burrell        United States   \n",
              "45          NaN     9.85      +1.7      Olusoji Fasuba              Nigeria   \n",
              "46          NaN     9.85      +1.3        Mike Rodgers        United States   \n",
              "47          NaN     9.85      +1.5        Marvin Bracy        United States   \n",
              "48          NaN     9.86      +1.2          Carl Lewis        United States   \n",
              "49          NaN     9.86      −0.4  Frankie Fredericks              Namibia   \n",
              "50          NaN     9.86      +1.8          Ato Boldon  Trinidad and Tobago   \n",
              "51          NaN     9.86      +0.6    Francis Obikwelu             Portugal   \n",
              "52          NaN     9.86      +1.4      Keston Bledman  Trinidad and Tobago   \n",
              "53          NaN     9.86      +1.3        Jimmy Vicaut               France   \n",
              "54          NaN     9.86      +0.9          Noah Lyles        United States   \n",
              "55          NaN     9.86      +0.8      Divine Oduduru              Nigeria   \n",
              "56          NaN     9.86      +1.6      Michael Norman        United States   \n",
              "57          NaN     9.86      +0.2     Oblique Seville              Jamaica   \n",
              "58          NaN     9.86      +0.7      Micah Williams        United States   \n",
              "\n",
              "           date           place  \n",
              "0   16 AUG 2009          Berlin  \n",
              "1   05 AUG 2012          London  \n",
              "2   16 AUG 2008         Beijing  \n",
              "3   20 SEP 2009        Shanghai  \n",
              "4   23 AUG 2012        Lausanne  \n",
              "5   16 AUG 2009          Berlin  \n",
              "6   31 MAY 2008   New York City  \n",
              "7   02 SEP 2008        Lausanne  \n",
              "8   09 SEP 2007           Rieti  \n",
              "9   15 MAY 2015            Doha  \n",
              "10  29 JUN 2012        Kingston  \n",
              "11  05 AUG 2012          London  \n",
              "12  04 JUN 2015            Rome  \n",
              "13  09 JUL 2015        Lausanne  \n",
              "14  03 MAY 2008        Kingston  \n",
              "15  16 SEP 2011        Brussels  \n",
              "16  31 MAY 2012            Rome  \n",
              "17  30 AUG 2012          Zürich  \n",
              "18  28 SEP 2019            Doha  \n",
              "19  18 SEP 2021         Nairobi  \n",
              "20  24 JUN 2022          Eugene  \n",
              "21  14 JUN 2005          Athens  \n",
              "22  11 JUN 2006       Gateshead  \n",
              "23  18 AUG 2006          Zürich  \n",
              "24  28 JUN 2008          Eugene  \n",
              "25  05 SEP 2008        Brussels  \n",
              "26  07 SEP 2008           Rieti  \n",
              "27  10 JUL 2009            Rome  \n",
              "28  11 AUG 2013          Moscow  \n",
              "29  05 SEP 2014        Brussels  \n",
              "30  23 AUG 2015         Beijing  \n",
              "31  05 JUN 2021         Miramar  \n",
              "32  18 SEP 2021         Nairobi  \n",
              "33  24 JUN 2022          Eugene  \n",
              "34  29 AUG 2010           Rieti  \n",
              "35  16 JUN 1999          Athens  \n",
              "36  04 JUN 2011          Eugene  \n",
              "37  01 AUG 2021           Tokyo  \n",
              "38  21 JUN 2014   Port of Spain  \n",
              "39  01 AUG 2021           Tokyo  \n",
              "40  01 AUG 2021           Tokyo  \n",
              "41  27 JUL 1996         Atlanta  \n",
              "42  22 AUG 1999         Seville  \n",
              "43  06 JUL 2021  Székesfehérvár  \n",
              "44  06 JUL 1994        Lausanne  \n",
              "45  12 MAY 2006            Doha  \n",
              "46  04 JUN 2011          Eugene  \n",
              "47  05 JUN 2021         Miramar  \n",
              "48  25 AUG 1991           Tokyo  \n",
              "49  03 JUL 1996        Lausanne  \n",
              "50  19 APR 1998          Walnut  \n",
              "51  22 AUG 2004          Athens  \n",
              "52  23 JUN 2012   Port of Spain  \n",
              "53  04 JUL 2015     Saint-Denis  \n",
              "54  18 MAY 2019        Shanghai  \n",
              "55  07 JUN 2019          Austin  \n",
              "56  20 JUL 2020      Fort Worth  \n",
              "57  21 MAY 2022        Kingston  \n",
              "58  27 MAY 2022    Fayetteville  "
            ],
            "text/html": [
              "\n",
              "  <div id=\"df-dd99f27c-65b7-4d12-87ab-3c9369b285ba\">\n",
              "    <div class=\"colab-df-container\">\n",
              "      <div>\n",
              "<style scoped>\n",
              "    .dataframe tbody tr th:only-of-type {\n",
              "        vertical-align: middle;\n",
              "    }\n",
              "\n",
              "    .dataframe tbody tr th {\n",
              "        vertical-align: top;\n",
              "    }\n",
              "\n",
              "    .dataframe thead th {\n",
              "        text-align: right;\n",
              "    }\n",
              "</style>\n",
              "<table border=\"1\" class=\"dataframe\">\n",
              "  <thead>\n",
              "    <tr style=\"text-align: right;\">\n",
              "      <th></th>\n",
              "      <th>performance</th>\n",
              "      <th>time(s)</th>\n",
              "      <th>wind(m/s)</th>\n",
              "      <th>athlete</th>\n",
              "      <th>nation</th>\n",
              "      <th>date</th>\n",
              "      <th>place</th>\n",
              "    </tr>\n",
              "  </thead>\n",
              "  <tbody>\n",
              "    <tr>\n",
              "      <th>0</th>\n",
              "      <td>1.0</td>\n",
              "      <td>9.58</td>\n",
              "      <td>+0.9</td>\n",
              "      <td>Usain Bolt</td>\n",
              "      <td>Jamaica</td>\n",
              "      <td>16 AUG 2009</td>\n",
              "      <td>Berlin</td>\n",
              "    </tr>\n",
              "    <tr>\n",
              "      <th>1</th>\n",
              "      <td>2.0</td>\n",
              "      <td>9.63</td>\n",
              "      <td>+1.5</td>\n",
              "      <td>Usain Bolt</td>\n",
              "      <td>Jamaica</td>\n",
              "      <td>05 AUG 2012</td>\n",
              "      <td>London</td>\n",
              "    </tr>\n",
              "    <tr>\n",
              "      <th>2</th>\n",
              "      <td>3.0</td>\n",
              "      <td>9.69</td>\n",
              "      <td>±0.0</td>\n",
              "      <td>Usain Bolt</td>\n",
              "      <td>Jamaica</td>\n",
              "      <td>16 AUG 2008</td>\n",
              "      <td>Beijing</td>\n",
              "    </tr>\n",
              "    <tr>\n",
              "      <th>3</th>\n",
              "      <td>3.0</td>\n",
              "      <td>9.69</td>\n",
              "      <td>+2.0</td>\n",
              "      <td>Tyson Gay</td>\n",
              "      <td>United States</td>\n",
              "      <td>20 SEP 2009</td>\n",
              "      <td>Shanghai</td>\n",
              "    </tr>\n",
              "    <tr>\n",
              "      <th>4</th>\n",
              "      <td>3.0</td>\n",
              "      <td>9.69</td>\n",
              "      <td>−0.1</td>\n",
              "      <td>Yohan Blake</td>\n",
              "      <td>Jamaica</td>\n",
              "      <td>23 AUG 2012</td>\n",
              "      <td>Lausanne</td>\n",
              "    </tr>\n",
              "    <tr>\n",
              "      <th>5</th>\n",
              "      <td>6.0</td>\n",
              "      <td>9.71</td>\n",
              "      <td>+0.9</td>\n",
              "      <td>Tyson Gay</td>\n",
              "      <td>United States</td>\n",
              "      <td>16 AUG 2009</td>\n",
              "      <td>Berlin</td>\n",
              "    </tr>\n",
              "    <tr>\n",
              "      <th>6</th>\n",
              "      <td>7.0</td>\n",
              "      <td>9.72</td>\n",
              "      <td>+1.7</td>\n",
              "      <td>Usain Bolt</td>\n",
              "      <td>Jamaica</td>\n",
              "      <td>31 MAY 2008</td>\n",
              "      <td>New York City</td>\n",
              "    </tr>\n",
              "    <tr>\n",
              "      <th>7</th>\n",
              "      <td>7.0</td>\n",
              "      <td>9.72</td>\n",
              "      <td>+0.2</td>\n",
              "      <td>Asafa Powell</td>\n",
              "      <td>Jamaica</td>\n",
              "      <td>02 SEP 2008</td>\n",
              "      <td>Lausanne</td>\n",
              "    </tr>\n",
              "    <tr>\n",
              "      <th>8</th>\n",
              "      <td>9.0</td>\n",
              "      <td>9.74</td>\n",
              "      <td>+1.7</td>\n",
              "      <td>Asafa Powell</td>\n",
              "      <td>Jamaica</td>\n",
              "      <td>09 SEP 2007</td>\n",
              "      <td>Rieti</td>\n",
              "    </tr>\n",
              "    <tr>\n",
              "      <th>9</th>\n",
              "      <td>9.0</td>\n",
              "      <td>9.74</td>\n",
              "      <td>+0.9</td>\n",
              "      <td>Justin Gatlin</td>\n",
              "      <td>United States</td>\n",
              "      <td>15 MAY 2015</td>\n",
              "      <td>Doha</td>\n",
              "    </tr>\n",
              "    <tr>\n",
              "      <th>10</th>\n",
              "      <td>11.0</td>\n",
              "      <td>9.75</td>\n",
              "      <td>+1.1</td>\n",
              "      <td>Yohan Blake</td>\n",
              "      <td>Jamaica</td>\n",
              "      <td>29 JUN 2012</td>\n",
              "      <td>Kingston</td>\n",
              "    </tr>\n",
              "    <tr>\n",
              "      <th>11</th>\n",
              "      <td>11.0</td>\n",
              "      <td>9.75</td>\n",
              "      <td>+1.5</td>\n",
              "      <td>Yohan Blake</td>\n",
              "      <td>Jamaica</td>\n",
              "      <td>05 AUG 2012</td>\n",
              "      <td>London</td>\n",
              "    </tr>\n",
              "    <tr>\n",
              "      <th>12</th>\n",
              "      <td>11.0</td>\n",
              "      <td>9.75</td>\n",
              "      <td>+0.9</td>\n",
              "      <td>Justin Gatlin</td>\n",
              "      <td>United States</td>\n",
              "      <td>04 JUN 2015</td>\n",
              "      <td>Rome</td>\n",
              "    </tr>\n",
              "    <tr>\n",
              "      <th>13</th>\n",
              "      <td>11.0</td>\n",
              "      <td>9.75</td>\n",
              "      <td>+1.4</td>\n",
              "      <td>Justin Gatlin</td>\n",
              "      <td>United States</td>\n",
              "      <td>09 JUL 2015</td>\n",
              "      <td>Lausanne</td>\n",
              "    </tr>\n",
              "    <tr>\n",
              "      <th>14</th>\n",
              "      <td>15.0</td>\n",
              "      <td>9.76</td>\n",
              "      <td>+1.8</td>\n",
              "      <td>Usain Bolt</td>\n",
              "      <td>Jamaica</td>\n",
              "      <td>03 MAY 2008</td>\n",
              "      <td>Kingston</td>\n",
              "    </tr>\n",
              "    <tr>\n",
              "      <th>15</th>\n",
              "      <td>15.0</td>\n",
              "      <td>9.76</td>\n",
              "      <td>+1.3</td>\n",
              "      <td>Usain Bolt</td>\n",
              "      <td>Jamaica</td>\n",
              "      <td>16 SEP 2011</td>\n",
              "      <td>Brussels</td>\n",
              "    </tr>\n",
              "    <tr>\n",
              "      <th>16</th>\n",
              "      <td>15.0</td>\n",
              "      <td>9.76</td>\n",
              "      <td>−0.1</td>\n",
              "      <td>Usain Bolt</td>\n",
              "      <td>Jamaica</td>\n",
              "      <td>31 MAY 2012</td>\n",
              "      <td>Rome</td>\n",
              "    </tr>\n",
              "    <tr>\n",
              "      <th>17</th>\n",
              "      <td>15.0</td>\n",
              "      <td>9.76</td>\n",
              "      <td>+1.4</td>\n",
              "      <td>Yohan Blake</td>\n",
              "      <td>Jamaica</td>\n",
              "      <td>30 AUG 2012</td>\n",
              "      <td>Zürich</td>\n",
              "    </tr>\n",
              "    <tr>\n",
              "      <th>18</th>\n",
              "      <td>15.0</td>\n",
              "      <td>9.76</td>\n",
              "      <td>+0.6</td>\n",
              "      <td>Christian Coleman</td>\n",
              "      <td>United States</td>\n",
              "      <td>28 SEP 2019</td>\n",
              "      <td>Doha</td>\n",
              "    </tr>\n",
              "    <tr>\n",
              "      <th>19</th>\n",
              "      <td>15.0</td>\n",
              "      <td>9.76[A]</td>\n",
              "      <td>+1.2</td>\n",
              "      <td>Trayvon Bromell</td>\n",
              "      <td>United States</td>\n",
              "      <td>18 SEP 2021</td>\n",
              "      <td>Nairobi</td>\n",
              "    </tr>\n",
              "    <tr>\n",
              "      <th>20</th>\n",
              "      <td>15.0</td>\n",
              "      <td>9.76</td>\n",
              "      <td>+1.4</td>\n",
              "      <td>Fred Kerley</td>\n",
              "      <td>United States</td>\n",
              "      <td>24 JUN 2022</td>\n",
              "      <td>Eugene</td>\n",
              "    </tr>\n",
              "    <tr>\n",
              "      <th>21</th>\n",
              "      <td>22.0</td>\n",
              "      <td>9.77</td>\n",
              "      <td>+1.6</td>\n",
              "      <td>Asafa Powell</td>\n",
              "      <td>Jamaica</td>\n",
              "      <td>14 JUN 2005</td>\n",
              "      <td>Athens</td>\n",
              "    </tr>\n",
              "    <tr>\n",
              "      <th>22</th>\n",
              "      <td>22.0</td>\n",
              "      <td>9.77</td>\n",
              "      <td>+1.5</td>\n",
              "      <td>Asafa Powell</td>\n",
              "      <td>Jamaica</td>\n",
              "      <td>11 JUN 2006</td>\n",
              "      <td>Gateshead</td>\n",
              "    </tr>\n",
              "    <tr>\n",
              "      <th>23</th>\n",
              "      <td>22.0</td>\n",
              "      <td>9.77</td>\n",
              "      <td>+1.0</td>\n",
              "      <td>Asafa Powell</td>\n",
              "      <td>Jamaica</td>\n",
              "      <td>18 AUG 2006</td>\n",
              "      <td>Zürich</td>\n",
              "    </tr>\n",
              "    <tr>\n",
              "      <th>24</th>\n",
              "      <td>22.0</td>\n",
              "      <td>9.77</td>\n",
              "      <td>+1.0</td>\n",
              "      <td>Tyson Gay</td>\n",
              "      <td>United States</td>\n",
              "      <td>28 JUN 2008</td>\n",
              "      <td>Eugene</td>\n",
              "    </tr>\n",
              "    <tr>\n",
              "      <th>25</th>\n",
              "      <td>22.0</td>\n",
              "      <td>9.77</td>\n",
              "      <td>−1.3</td>\n",
              "      <td>Usain Bolt</td>\n",
              "      <td>Jamaica</td>\n",
              "      <td>05 SEP 2008</td>\n",
              "      <td>Brussels</td>\n",
              "    </tr>\n",
              "    <tr>\n",
              "      <th>26</th>\n",
              "      <td>22.0</td>\n",
              "      <td>9.77</td>\n",
              "      <td>+0.9</td>\n",
              "      <td>Asafa Powell</td>\n",
              "      <td>Jamaica</td>\n",
              "      <td>07 SEP 2008</td>\n",
              "      <td>Rieti</td>\n",
              "    </tr>\n",
              "    <tr>\n",
              "      <th>27</th>\n",
              "      <td>22.0</td>\n",
              "      <td>9.77</td>\n",
              "      <td>+0.4</td>\n",
              "      <td>Tyson Gay</td>\n",
              "      <td>United States</td>\n",
              "      <td>10 JUL 2009</td>\n",
              "      <td>Rome</td>\n",
              "    </tr>\n",
              "    <tr>\n",
              "      <th>28</th>\n",
              "      <td>22.0</td>\n",
              "      <td>9.77</td>\n",
              "      <td>−0.3</td>\n",
              "      <td>Usain Bolt</td>\n",
              "      <td>Jamaica</td>\n",
              "      <td>11 AUG 2013</td>\n",
              "      <td>Moscow</td>\n",
              "    </tr>\n",
              "    <tr>\n",
              "      <th>29</th>\n",
              "      <td>22.0</td>\n",
              "      <td>9.77</td>\n",
              "      <td>+0.6</td>\n",
              "      <td>Justin Gatlin</td>\n",
              "      <td>United States</td>\n",
              "      <td>05 SEP 2014</td>\n",
              "      <td>Brussels</td>\n",
              "    </tr>\n",
              "    <tr>\n",
              "      <th>30</th>\n",
              "      <td>22.0</td>\n",
              "      <td>9.77</td>\n",
              "      <td>+0.9</td>\n",
              "      <td>Justin Gatlin</td>\n",
              "      <td>United States</td>\n",
              "      <td>23 AUG 2015</td>\n",
              "      <td>Beijing</td>\n",
              "    </tr>\n",
              "    <tr>\n",
              "      <th>31</th>\n",
              "      <td>22.0</td>\n",
              "      <td>9.77</td>\n",
              "      <td>+1.5</td>\n",
              "      <td>Trayvon Bromell</td>\n",
              "      <td>United States</td>\n",
              "      <td>05 JUN 2021</td>\n",
              "      <td>Miramar</td>\n",
              "    </tr>\n",
              "    <tr>\n",
              "      <th>32</th>\n",
              "      <td>22.0</td>\n",
              "      <td>9.77[A]</td>\n",
              "      <td>+1.2</td>\n",
              "      <td>Ferdinand Omanyala</td>\n",
              "      <td>Kenya</td>\n",
              "      <td>18 SEP 2021</td>\n",
              "      <td>Nairobi</td>\n",
              "    </tr>\n",
              "    <tr>\n",
              "      <th>33</th>\n",
              "      <td>22.0</td>\n",
              "      <td>9.77</td>\n",
              "      <td>+1.8</td>\n",
              "      <td>Fred Kerley</td>\n",
              "      <td>United States</td>\n",
              "      <td>24 JUN 2022</td>\n",
              "      <td>Eugene</td>\n",
              "    </tr>\n",
              "    <tr>\n",
              "      <th>34</th>\n",
              "      <td>NaN</td>\n",
              "      <td>9.78</td>\n",
              "      <td>+0.9</td>\n",
              "      <td>Nesta Carter</td>\n",
              "      <td>Jamaica</td>\n",
              "      <td>29 AUG 2010</td>\n",
              "      <td>Rieti</td>\n",
              "    </tr>\n",
              "    <tr>\n",
              "      <th>35</th>\n",
              "      <td>NaN</td>\n",
              "      <td>9.79</td>\n",
              "      <td>+0.1</td>\n",
              "      <td>Maurice Greene</td>\n",
              "      <td>United States</td>\n",
              "      <td>16 JUN 1999</td>\n",
              "      <td>Athens</td>\n",
              "    </tr>\n",
              "    <tr>\n",
              "      <th>36</th>\n",
              "      <td>NaN</td>\n",
              "      <td>9.80</td>\n",
              "      <td>+1.3</td>\n",
              "      <td>Steve Mullings</td>\n",
              "      <td>Jamaica</td>\n",
              "      <td>04 JUN 2011</td>\n",
              "      <td>Eugene</td>\n",
              "    </tr>\n",
              "    <tr>\n",
              "      <th>37</th>\n",
              "      <td>NaN</td>\n",
              "      <td>9.80</td>\n",
              "      <td>+0.1</td>\n",
              "      <td>Marcell Jacobs</td>\n",
              "      <td>Italy</td>\n",
              "      <td>01 AUG 2021</td>\n",
              "      <td>Tokyo</td>\n",
              "    </tr>\n",
              "    <tr>\n",
              "      <th>38</th>\n",
              "      <td>NaN</td>\n",
              "      <td>9.82</td>\n",
              "      <td>+1.7</td>\n",
              "      <td>Richard Thompson</td>\n",
              "      <td>Trinidad and Tobago</td>\n",
              "      <td>21 JUN 2014</td>\n",
              "      <td>Port of Spain</td>\n",
              "    </tr>\n",
              "    <tr>\n",
              "      <th>39</th>\n",
              "      <td>NaN</td>\n",
              "      <td>9.83</td>\n",
              "      <td>+0.9</td>\n",
              "      <td>Su Bingtian</td>\n",
              "      <td>China</td>\n",
              "      <td>01 AUG 2021</td>\n",
              "      <td>Tokyo</td>\n",
              "    </tr>\n",
              "    <tr>\n",
              "      <th>40</th>\n",
              "      <td>NaN</td>\n",
              "      <td>9.83</td>\n",
              "      <td>+0.9</td>\n",
              "      <td>Ronnie Baker</td>\n",
              "      <td>United States</td>\n",
              "      <td>01 AUG 2021</td>\n",
              "      <td>Tokyo</td>\n",
              "    </tr>\n",
              "    <tr>\n",
              "      <th>41</th>\n",
              "      <td>NaN</td>\n",
              "      <td>9.84</td>\n",
              "      <td>+0.7</td>\n",
              "      <td>Donovan Bailey</td>\n",
              "      <td>Canada</td>\n",
              "      <td>27 JUL 1996</td>\n",
              "      <td>Atlanta</td>\n",
              "    </tr>\n",
              "    <tr>\n",
              "      <th>42</th>\n",
              "      <td>NaN</td>\n",
              "      <td>9.84</td>\n",
              "      <td>+0.2</td>\n",
              "      <td>Bruny Surin</td>\n",
              "      <td>Canada</td>\n",
              "      <td>22 AUG 1999</td>\n",
              "      <td>Seville</td>\n",
              "    </tr>\n",
              "    <tr>\n",
              "      <th>43</th>\n",
              "      <td>NaN</td>\n",
              "      <td>9.84</td>\n",
              "      <td>+1.2</td>\n",
              "      <td>Akani Simbine</td>\n",
              "      <td>South Africa</td>\n",
              "      <td>06 JUL 2021</td>\n",
              "      <td>Székesfehérvár</td>\n",
              "    </tr>\n",
              "    <tr>\n",
              "      <th>44</th>\n",
              "      <td>NaN</td>\n",
              "      <td>9.85</td>\n",
              "      <td>+1.2</td>\n",
              "      <td>Leroy Burrell</td>\n",
              "      <td>United States</td>\n",
              "      <td>06 JUL 1994</td>\n",
              "      <td>Lausanne</td>\n",
              "    </tr>\n",
              "    <tr>\n",
              "      <th>45</th>\n",
              "      <td>NaN</td>\n",
              "      <td>9.85</td>\n",
              "      <td>+1.7</td>\n",
              "      <td>Olusoji Fasuba</td>\n",
              "      <td>Nigeria</td>\n",
              "      <td>12 MAY 2006</td>\n",
              "      <td>Doha</td>\n",
              "    </tr>\n",
              "    <tr>\n",
              "      <th>46</th>\n",
              "      <td>NaN</td>\n",
              "      <td>9.85</td>\n",
              "      <td>+1.3</td>\n",
              "      <td>Mike Rodgers</td>\n",
              "      <td>United States</td>\n",
              "      <td>04 JUN 2011</td>\n",
              "      <td>Eugene</td>\n",
              "    </tr>\n",
              "    <tr>\n",
              "      <th>47</th>\n",
              "      <td>NaN</td>\n",
              "      <td>9.85</td>\n",
              "      <td>+1.5</td>\n",
              "      <td>Marvin Bracy</td>\n",
              "      <td>United States</td>\n",
              "      <td>05 JUN 2021</td>\n",
              "      <td>Miramar</td>\n",
              "    </tr>\n",
              "    <tr>\n",
              "      <th>48</th>\n",
              "      <td>NaN</td>\n",
              "      <td>9.86</td>\n",
              "      <td>+1.2</td>\n",
              "      <td>Carl Lewis</td>\n",
              "      <td>United States</td>\n",
              "      <td>25 AUG 1991</td>\n",
              "      <td>Tokyo</td>\n",
              "    </tr>\n",
              "    <tr>\n",
              "      <th>49</th>\n",
              "      <td>NaN</td>\n",
              "      <td>9.86</td>\n",
              "      <td>−0.4</td>\n",
              "      <td>Frankie Fredericks</td>\n",
              "      <td>Namibia</td>\n",
              "      <td>03 JUL 1996</td>\n",
              "      <td>Lausanne</td>\n",
              "    </tr>\n",
              "    <tr>\n",
              "      <th>50</th>\n",
              "      <td>NaN</td>\n",
              "      <td>9.86</td>\n",
              "      <td>+1.8</td>\n",
              "      <td>Ato Boldon</td>\n",
              "      <td>Trinidad and Tobago</td>\n",
              "      <td>19 APR 1998</td>\n",
              "      <td>Walnut</td>\n",
              "    </tr>\n",
              "    <tr>\n",
              "      <th>51</th>\n",
              "      <td>NaN</td>\n",
              "      <td>9.86</td>\n",
              "      <td>+0.6</td>\n",
              "      <td>Francis Obikwelu</td>\n",
              "      <td>Portugal</td>\n",
              "      <td>22 AUG 2004</td>\n",
              "      <td>Athens</td>\n",
              "    </tr>\n",
              "    <tr>\n",
              "      <th>52</th>\n",
              "      <td>NaN</td>\n",
              "      <td>9.86</td>\n",
              "      <td>+1.4</td>\n",
              "      <td>Keston Bledman</td>\n",
              "      <td>Trinidad and Tobago</td>\n",
              "      <td>23 JUN 2012</td>\n",
              "      <td>Port of Spain</td>\n",
              "    </tr>\n",
              "    <tr>\n",
              "      <th>53</th>\n",
              "      <td>NaN</td>\n",
              "      <td>9.86</td>\n",
              "      <td>+1.3</td>\n",
              "      <td>Jimmy Vicaut</td>\n",
              "      <td>France</td>\n",
              "      <td>04 JUL 2015</td>\n",
              "      <td>Saint-Denis</td>\n",
              "    </tr>\n",
              "    <tr>\n",
              "      <th>54</th>\n",
              "      <td>NaN</td>\n",
              "      <td>9.86</td>\n",
              "      <td>+0.9</td>\n",
              "      <td>Noah Lyles</td>\n",
              "      <td>United States</td>\n",
              "      <td>18 MAY 2019</td>\n",
              "      <td>Shanghai</td>\n",
              "    </tr>\n",
              "    <tr>\n",
              "      <th>55</th>\n",
              "      <td>NaN</td>\n",
              "      <td>9.86</td>\n",
              "      <td>+0.8</td>\n",
              "      <td>Divine Oduduru</td>\n",
              "      <td>Nigeria</td>\n",
              "      <td>07 JUN 2019</td>\n",
              "      <td>Austin</td>\n",
              "    </tr>\n",
              "    <tr>\n",
              "      <th>56</th>\n",
              "      <td>NaN</td>\n",
              "      <td>9.86</td>\n",
              "      <td>+1.6</td>\n",
              "      <td>Michael Norman</td>\n",
              "      <td>United States</td>\n",
              "      <td>20 JUL 2020</td>\n",
              "      <td>Fort Worth</td>\n",
              "    </tr>\n",
              "    <tr>\n",
              "      <th>57</th>\n",
              "      <td>NaN</td>\n",
              "      <td>9.86</td>\n",
              "      <td>+0.2</td>\n",
              "      <td>Oblique Seville</td>\n",
              "      <td>Jamaica</td>\n",
              "      <td>21 MAY 2022</td>\n",
              "      <td>Kingston</td>\n",
              "    </tr>\n",
              "    <tr>\n",
              "      <th>58</th>\n",
              "      <td>NaN</td>\n",
              "      <td>9.86</td>\n",
              "      <td>+0.7</td>\n",
              "      <td>Micah Williams</td>\n",
              "      <td>United States</td>\n",
              "      <td>27 MAY 2022</td>\n",
              "      <td>Fayetteville</td>\n",
              "    </tr>\n",
              "  </tbody>\n",
              "</table>\n",
              "</div>\n",
              "      <button class=\"colab-df-convert\" onclick=\"convertToInteractive('df-dd99f27c-65b7-4d12-87ab-3c9369b285ba')\"\n",
              "              title=\"Convert this dataframe to an interactive table.\"\n",
              "              style=\"display:none;\">\n",
              "        \n",
              "  <svg xmlns=\"http://www.w3.org/2000/svg\" height=\"24px\"viewBox=\"0 0 24 24\"\n",
              "       width=\"24px\">\n",
              "    <path d=\"M0 0h24v24H0V0z\" fill=\"none\"/>\n",
              "    <path d=\"M18.56 5.44l.94 2.06.94-2.06 2.06-.94-2.06-.94-.94-2.06-.94 2.06-2.06.94zm-11 1L8.5 8.5l.94-2.06 2.06-.94-2.06-.94L8.5 2.5l-.94 2.06-2.06.94zm10 10l.94 2.06.94-2.06 2.06-.94-2.06-.94-.94-2.06-.94 2.06-2.06.94z\"/><path d=\"M17.41 7.96l-1.37-1.37c-.4-.4-.92-.59-1.43-.59-.52 0-1.04.2-1.43.59L10.3 9.45l-7.72 7.72c-.78.78-.78 2.05 0 2.83L4 21.41c.39.39.9.59 1.41.59.51 0 1.02-.2 1.41-.59l7.78-7.78 2.81-2.81c.8-.78.8-2.07 0-2.86zM5.41 20L4 18.59l7.72-7.72 1.47 1.35L5.41 20z\"/>\n",
              "  </svg>\n",
              "      </button>\n",
              "      \n",
              "  <style>\n",
              "    .colab-df-container {\n",
              "      display:flex;\n",
              "      flex-wrap:wrap;\n",
              "      gap: 12px;\n",
              "    }\n",
              "\n",
              "    .colab-df-convert {\n",
              "      background-color: #E8F0FE;\n",
              "      border: none;\n",
              "      border-radius: 50%;\n",
              "      cursor: pointer;\n",
              "      display: none;\n",
              "      fill: #1967D2;\n",
              "      height: 32px;\n",
              "      padding: 0 0 0 0;\n",
              "      width: 32px;\n",
              "    }\n",
              "\n",
              "    .colab-df-convert:hover {\n",
              "      background-color: #E2EBFA;\n",
              "      box-shadow: 0px 1px 2px rgba(60, 64, 67, 0.3), 0px 1px 3px 1px rgba(60, 64, 67, 0.15);\n",
              "      fill: #174EA6;\n",
              "    }\n",
              "\n",
              "    [theme=dark] .colab-df-convert {\n",
              "      background-color: #3B4455;\n",
              "      fill: #D2E3FC;\n",
              "    }\n",
              "\n",
              "    [theme=dark] .colab-df-convert:hover {\n",
              "      background-color: #434B5C;\n",
              "      box-shadow: 0px 1px 3px 1px rgba(0, 0, 0, 0.15);\n",
              "      filter: drop-shadow(0px 1px 2px rgba(0, 0, 0, 0.3));\n",
              "      fill: #FFFFFF;\n",
              "    }\n",
              "  </style>\n",
              "\n",
              "      <script>\n",
              "        const buttonEl =\n",
              "          document.querySelector('#df-dd99f27c-65b7-4d12-87ab-3c9369b285ba button.colab-df-convert');\n",
              "        buttonEl.style.display =\n",
              "          google.colab.kernel.accessAllowed ? 'block' : 'none';\n",
              "\n",
              "        async function convertToInteractive(key) {\n",
              "          const element = document.querySelector('#df-dd99f27c-65b7-4d12-87ab-3c9369b285ba');\n",
              "          const dataTable =\n",
              "            await google.colab.kernel.invokeFunction('convertToInteractive',\n",
              "                                                     [key], {});\n",
              "          if (!dataTable) return;\n",
              "\n",
              "          const docLinkHtml = 'Like what you see? Visit the ' +\n",
              "            '<a target=\"_blank\" href=https://colab.research.google.com/notebooks/data_table.ipynb>data table notebook</a>'\n",
              "            + ' to learn more about interactive tables.';\n",
              "          element.innerHTML = '';\n",
              "          dataTable['output_type'] = 'display_data';\n",
              "          await google.colab.output.renderOutput(dataTable, element);\n",
              "          const docLink = document.createElement('div');\n",
              "          docLink.innerHTML = docLinkHtml;\n",
              "          element.appendChild(docLink);\n",
              "        }\n",
              "      </script>\n",
              "    </div>\n",
              "  </div>\n",
              "  "
            ]
          },
          "metadata": {},
          "execution_count": 328
        }
      ]
    },
    {
      "cell_type": "markdown",
      "source": [
        "##Extracting EPL related information from Wikipedia"
      ],
      "metadata": {
        "id": "-RiMvLhnci05"
      }
    },
    {
      "cell_type": "code",
      "source": [
        "url = 'https://en.wikipedia.org/wiki/2021%E2%80%9322_Premier_League'\n",
        "page = requests.get(url).content\n",
        "\n",
        "soup_epl = BeautifulSoup(page, 'html.parser')\n"
      ],
      "metadata": {
        "id": "pAfx-YVhdVos"
      },
      "execution_count": 329,
      "outputs": []
    },
    {
      "cell_type": "code",
      "source": [
        "html_table = soup_epl.find_all('table', attrs={'class' : 'wikitable'})"
      ],
      "metadata": {
        "id": "-WEjI8SZdw4j"
      },
      "execution_count": 330,
      "outputs": []
    },
    {
      "cell_type": "code",
      "source": [
        "# html_table = soup_epl.select('table.wikitable')"
      ],
      "metadata": {
        "id": "6KpJc_rIjQLp"
      },
      "execution_count": 331,
      "outputs": []
    },
    {
      "cell_type": "code",
      "source": [
        "type(html_table)"
      ],
      "metadata": {
        "colab": {
          "base_uri": "https://localhost:8080/"
        },
        "id": "n-nd-zuQfMEC",
        "outputId": "dbbc21d6-5498-4e67-98e5-474472304086"
      },
      "execution_count": 332,
      "outputs": [
        {
          "output_type": "execute_result",
          "data": {
            "text/plain": [
              "bs4.element.ResultSet"
            ]
          },
          "metadata": {},
          "execution_count": 332
        }
      ]
    },
    {
      "cell_type": "code",
      "source": [
        "df_epl = pd.read_html(str(html_table))"
      ],
      "metadata": {
        "id": "6ZmNz55MekjF"
      },
      "execution_count": 333,
      "outputs": []
    },
    {
      "cell_type": "code",
      "source": [
        "len(df_epl)"
      ],
      "metadata": {
        "colab": {
          "base_uri": "https://localhost:8080/"
        },
        "id": "CX51hJpGel2H",
        "outputId": "d156cd9c-73cf-49b2-e833-b66ececeee90"
      },
      "execution_count": 334,
      "outputs": [
        {
          "output_type": "execute_result",
          "data": {
            "text/plain": [
              "12"
            ]
          },
          "metadata": {},
          "execution_count": 334
        }
      ]
    },
    {
      "cell_type": "code",
      "source": [
        "d = {}"
      ],
      "metadata": {
        "id": "XmZCvc2uhJz-"
      },
      "execution_count": 335,
      "outputs": []
    },
    {
      "cell_type": "code",
      "source": [
        "for i in range(0,12):\n",
        " d[f'df_epl_{i}'] = df_epl[i]"
      ],
      "metadata": {
        "id": "8ONeRMm0fz7a"
      },
      "execution_count": 336,
      "outputs": []
    },
    {
      "cell_type": "code",
      "source": [
        "d.keys()"
      ],
      "metadata": {
        "colab": {
          "base_uri": "https://localhost:8080/"
        },
        "id": "6zRIrAMjhpVR",
        "outputId": "7459c782-321a-4d93-9f4f-84f16e0330a1"
      },
      "execution_count": 337,
      "outputs": [
        {
          "output_type": "execute_result",
          "data": {
            "text/plain": [
              "dict_keys(['df_epl_0', 'df_epl_1', 'df_epl_2', 'df_epl_3', 'df_epl_4', 'df_epl_5', 'df_epl_6', 'df_epl_7', 'df_epl_8', 'df_epl_9', 'df_epl_10', 'df_epl_11'])"
            ]
          },
          "metadata": {},
          "execution_count": 337
        }
      ]
    },
    {
      "cell_type": "code",
      "source": [
        "d['df_epl_8']"
      ],
      "metadata": {
        "colab": {
          "base_uri": "https://localhost:8080/",
          "height": 363
        },
        "id": "s0POy82whuaE",
        "outputId": "17abbba9-7b6a-4cd9-ed41-b0f29446a70a"
      },
      "execution_count": 338,
      "outputs": [
        {
          "output_type": "execute_result",
          "data": {
            "text/plain": [
              "   Rank             Player                     Club  Clean sheets[155]\n",
              "0     1            Alisson                Liverpool                 20\n",
              "1     1            Ederson          Manchester City                 20\n",
              "2     3        Hugo Lloris        Tottenham Hotspur                 16\n",
              "3     4      Édouard Mendy                  Chelsea                 14\n",
              "4     5     Aaron Ramsdale                  Arsenal                 12\n",
              "5     6     Vicente Guaita           Crystal Palace                 11\n",
              "6     6  Emiliano Martínez              Aston Villa                 11\n",
              "7     6            José Sá  Wolverhampton Wanderers                 11\n",
              "8     6     Robert Sánchez   Brighton & Hove Albion                 11\n",
              "9    10          Nick Pope                  Burnley                  9"
            ],
            "text/html": [
              "\n",
              "  <div id=\"df-81306874-3cd8-4e5a-a843-fdaa9bd880bc\">\n",
              "    <div class=\"colab-df-container\">\n",
              "      <div>\n",
              "<style scoped>\n",
              "    .dataframe tbody tr th:only-of-type {\n",
              "        vertical-align: middle;\n",
              "    }\n",
              "\n",
              "    .dataframe tbody tr th {\n",
              "        vertical-align: top;\n",
              "    }\n",
              "\n",
              "    .dataframe thead th {\n",
              "        text-align: right;\n",
              "    }\n",
              "</style>\n",
              "<table border=\"1\" class=\"dataframe\">\n",
              "  <thead>\n",
              "    <tr style=\"text-align: right;\">\n",
              "      <th></th>\n",
              "      <th>Rank</th>\n",
              "      <th>Player</th>\n",
              "      <th>Club</th>\n",
              "      <th>Clean sheets[155]</th>\n",
              "    </tr>\n",
              "  </thead>\n",
              "  <tbody>\n",
              "    <tr>\n",
              "      <th>0</th>\n",
              "      <td>1</td>\n",
              "      <td>Alisson</td>\n",
              "      <td>Liverpool</td>\n",
              "      <td>20</td>\n",
              "    </tr>\n",
              "    <tr>\n",
              "      <th>1</th>\n",
              "      <td>1</td>\n",
              "      <td>Ederson</td>\n",
              "      <td>Manchester City</td>\n",
              "      <td>20</td>\n",
              "    </tr>\n",
              "    <tr>\n",
              "      <th>2</th>\n",
              "      <td>3</td>\n",
              "      <td>Hugo Lloris</td>\n",
              "      <td>Tottenham Hotspur</td>\n",
              "      <td>16</td>\n",
              "    </tr>\n",
              "    <tr>\n",
              "      <th>3</th>\n",
              "      <td>4</td>\n",
              "      <td>Édouard Mendy</td>\n",
              "      <td>Chelsea</td>\n",
              "      <td>14</td>\n",
              "    </tr>\n",
              "    <tr>\n",
              "      <th>4</th>\n",
              "      <td>5</td>\n",
              "      <td>Aaron Ramsdale</td>\n",
              "      <td>Arsenal</td>\n",
              "      <td>12</td>\n",
              "    </tr>\n",
              "    <tr>\n",
              "      <th>5</th>\n",
              "      <td>6</td>\n",
              "      <td>Vicente Guaita</td>\n",
              "      <td>Crystal Palace</td>\n",
              "      <td>11</td>\n",
              "    </tr>\n",
              "    <tr>\n",
              "      <th>6</th>\n",
              "      <td>6</td>\n",
              "      <td>Emiliano Martínez</td>\n",
              "      <td>Aston Villa</td>\n",
              "      <td>11</td>\n",
              "    </tr>\n",
              "    <tr>\n",
              "      <th>7</th>\n",
              "      <td>6</td>\n",
              "      <td>José Sá</td>\n",
              "      <td>Wolverhampton Wanderers</td>\n",
              "      <td>11</td>\n",
              "    </tr>\n",
              "    <tr>\n",
              "      <th>8</th>\n",
              "      <td>6</td>\n",
              "      <td>Robert Sánchez</td>\n",
              "      <td>Brighton &amp; Hove Albion</td>\n",
              "      <td>11</td>\n",
              "    </tr>\n",
              "    <tr>\n",
              "      <th>9</th>\n",
              "      <td>10</td>\n",
              "      <td>Nick Pope</td>\n",
              "      <td>Burnley</td>\n",
              "      <td>9</td>\n",
              "    </tr>\n",
              "  </tbody>\n",
              "</table>\n",
              "</div>\n",
              "      <button class=\"colab-df-convert\" onclick=\"convertToInteractive('df-81306874-3cd8-4e5a-a843-fdaa9bd880bc')\"\n",
              "              title=\"Convert this dataframe to an interactive table.\"\n",
              "              style=\"display:none;\">\n",
              "        \n",
              "  <svg xmlns=\"http://www.w3.org/2000/svg\" height=\"24px\"viewBox=\"0 0 24 24\"\n",
              "       width=\"24px\">\n",
              "    <path d=\"M0 0h24v24H0V0z\" fill=\"none\"/>\n",
              "    <path d=\"M18.56 5.44l.94 2.06.94-2.06 2.06-.94-2.06-.94-.94-2.06-.94 2.06-2.06.94zm-11 1L8.5 8.5l.94-2.06 2.06-.94-2.06-.94L8.5 2.5l-.94 2.06-2.06.94zm10 10l.94 2.06.94-2.06 2.06-.94-2.06-.94-.94-2.06-.94 2.06-2.06.94z\"/><path d=\"M17.41 7.96l-1.37-1.37c-.4-.4-.92-.59-1.43-.59-.52 0-1.04.2-1.43.59L10.3 9.45l-7.72 7.72c-.78.78-.78 2.05 0 2.83L4 21.41c.39.39.9.59 1.41.59.51 0 1.02-.2 1.41-.59l7.78-7.78 2.81-2.81c.8-.78.8-2.07 0-2.86zM5.41 20L4 18.59l7.72-7.72 1.47 1.35L5.41 20z\"/>\n",
              "  </svg>\n",
              "      </button>\n",
              "      \n",
              "  <style>\n",
              "    .colab-df-container {\n",
              "      display:flex;\n",
              "      flex-wrap:wrap;\n",
              "      gap: 12px;\n",
              "    }\n",
              "\n",
              "    .colab-df-convert {\n",
              "      background-color: #E8F0FE;\n",
              "      border: none;\n",
              "      border-radius: 50%;\n",
              "      cursor: pointer;\n",
              "      display: none;\n",
              "      fill: #1967D2;\n",
              "      height: 32px;\n",
              "      padding: 0 0 0 0;\n",
              "      width: 32px;\n",
              "    }\n",
              "\n",
              "    .colab-df-convert:hover {\n",
              "      background-color: #E2EBFA;\n",
              "      box-shadow: 0px 1px 2px rgba(60, 64, 67, 0.3), 0px 1px 3px 1px rgba(60, 64, 67, 0.15);\n",
              "      fill: #174EA6;\n",
              "    }\n",
              "\n",
              "    [theme=dark] .colab-df-convert {\n",
              "      background-color: #3B4455;\n",
              "      fill: #D2E3FC;\n",
              "    }\n",
              "\n",
              "    [theme=dark] .colab-df-convert:hover {\n",
              "      background-color: #434B5C;\n",
              "      box-shadow: 0px 1px 3px 1px rgba(0, 0, 0, 0.15);\n",
              "      filter: drop-shadow(0px 1px 2px rgba(0, 0, 0, 0.3));\n",
              "      fill: #FFFFFF;\n",
              "    }\n",
              "  </style>\n",
              "\n",
              "      <script>\n",
              "        const buttonEl =\n",
              "          document.querySelector('#df-81306874-3cd8-4e5a-a843-fdaa9bd880bc button.colab-df-convert');\n",
              "        buttonEl.style.display =\n",
              "          google.colab.kernel.accessAllowed ? 'block' : 'none';\n",
              "\n",
              "        async function convertToInteractive(key) {\n",
              "          const element = document.querySelector('#df-81306874-3cd8-4e5a-a843-fdaa9bd880bc');\n",
              "          const dataTable =\n",
              "            await google.colab.kernel.invokeFunction('convertToInteractive',\n",
              "                                                     [key], {});\n",
              "          if (!dataTable) return;\n",
              "\n",
              "          const docLinkHtml = 'Like what you see? Visit the ' +\n",
              "            '<a target=\"_blank\" href=https://colab.research.google.com/notebooks/data_table.ipynb>data table notebook</a>'\n",
              "            + ' to learn more about interactive tables.';\n",
              "          element.innerHTML = '';\n",
              "          dataTable['output_type'] = 'display_data';\n",
              "          await google.colab.output.renderOutput(dataTable, element);\n",
              "          const docLink = document.createElement('div');\n",
              "          docLink.innerHTML = docLinkHtml;\n",
              "          element.appendChild(docLink);\n",
              "        }\n",
              "      </script>\n",
              "    </div>\n",
              "  </div>\n",
              "  "
            ]
          },
          "metadata": {},
          "execution_count": 338
        }
      ]
    },
    {
      "cell_type": "markdown",
      "source": [
        "##Scraping EPL site"
      ],
      "metadata": {
        "id": "Pda7NYYn1iOs"
      }
    },
    {
      "cell_type": "code",
      "source": [
        "def epl_tables(url, data_compseason):\n",
        "  url = url\n",
        "  page = requests.get(url).content\n",
        "  soup_epl2 = BeautifulSoup(page, 'html.parser')\n",
        "  table = soup_epl2.find_all('tr', attrs= {'data-compseason': data_compseason}) #finding all tr tags with data-compseason = 489\n",
        "\n",
        "  position, club = ([] for i in range(2))\n",
        "  for i in range(len(table)):\n",
        "    club.append(table[i]['data-filtered-table-row-name'])\n",
        "    position.append(table[i]['data-position'])\n",
        "\n",
        "  epl_table = pd.DataFrame()\n",
        "  played, won, drawn, lost, gf, ga, gd, points = ([] for i in range(8))\n",
        "\n",
        "  for i in range(20):\n",
        "    try:\n",
        "      played.append(table[i].find_all('td')[3].string)\n",
        "      won.append(table[i].find_all('td')[4].string)\n",
        "      drawn.append(table[i].find_all('td')[5].string)\n",
        "      lost.append(table[i].find_all('td')[6].string)\n",
        "      gf.append(table[i].find_all('td')[7].string)\n",
        "      ga.append(table[i].find_all('td')[8].string)\n",
        "      gd.append(table[i].find_all('td')[9].string)\n",
        "      points.append(table[i].find_all('td')[10].string)\n",
        "    \n",
        "    except IndexError as e:\n",
        "      return (f'An error occured {e}')\n",
        "\n",
        "  lists = [position, club, played, won, drawn, lost, gf, ga, gd, points]\n",
        "  epl_table = pd.concat([pd.Series(x) for x in lists], axis = 1, keys = ['position', 'club', 'played', 'won', 'drawn', 'lost', 'gf', 'ga', 'gd', 'points'])\n",
        "  epl_table['gf'] = epl_table['gf'].astype(int)\n",
        "  epl_table['ga'] = epl_table['ga'].astype(int)\n",
        "  epl_table['gd'] = epl_table['gf'] - epl_table['ga']\n",
        "  return epl_table"
      ],
      "metadata": {
        "id": "6yWFXTf5fexO"
      },
      "execution_count": 339,
      "outputs": []
    },
    {
      "cell_type": "code",
      "source": [
        "url = 'https://www.premierleague.com/tables?team=FIRST'"
      ],
      "metadata": {
        "id": "8hVfNF21Dfs5"
      },
      "execution_count": 340,
      "outputs": []
    },
    {
      "cell_type": "code",
      "source": [
        "epl_tables(url, 489)"
      ],
      "metadata": {
        "colab": {
          "base_uri": "https://localhost:8080/",
          "height": 676
        },
        "id": "lB06K--hC-24",
        "outputId": "d36fd75c-89eb-4fe0-f0e1-ad3f59abd563"
      },
      "execution_count": 341,
      "outputs": [
        {
          "output_type": "execute_result",
          "data": {
            "text/plain": [
              "   position                      club played won drawn lost  gf  ga  gd points\n",
              "0         1                   Arsenal      7   6     0    1  17   7  10     18\n",
              "1         2           Manchester City      7   5     2    0  23   6  17     17\n",
              "2         3         Tottenham Hotspur      7   5     2    0  18   7  11     17\n",
              "3         4  Brighton and Hove Albion      6   4     1    1  11   5   6     13\n",
              "4         5         Manchester United      6   4     0    2   8   8   0     12\n",
              "5         6                    Fulham      7   3     2    2  12  11   1     11\n",
              "6         7                   Chelsea      6   3     1    2   8   9  -1     10\n",
              "7         8                 Liverpool      6   2     3    1  15   6   9      9\n",
              "8         9                 Brentford      7   2     3    2  15  12   3      9\n",
              "9        10          Newcastle United      7   1     5    1   8   7   1      8\n",
              "10       11              Leeds United      6   2     2    2  10  10   0      8\n",
              "11       12           AFC Bournemouth      7   2     2    3   6  19 -13      8\n",
              "12       13                   Everton      7   1     4    2   5   6  -1      7\n",
              "13       14               Southampton      7   2     1    4   7  11  -4      7\n",
              "14       15               Aston Villa      7   2     1    4   6  10  -4      7\n",
              "15       16            Crystal Palace      6   1     3    2   7   9  -2      6\n",
              "16       17   Wolverhampton Wanderers      7   1     3    3   3   7  -4      6\n",
              "17       18           West Ham United      7   1     1    5   3   9  -6      4\n",
              "18       19         Nottingham Forest      7   1     1    5   6  17 -11      4\n",
              "19       20            Leicester City      7   0     1    6  10  22 -12      1"
            ],
            "text/html": [
              "\n",
              "  <div id=\"df-97e4cb45-f290-411d-8bf0-0bf21adbd855\">\n",
              "    <div class=\"colab-df-container\">\n",
              "      <div>\n",
              "<style scoped>\n",
              "    .dataframe tbody tr th:only-of-type {\n",
              "        vertical-align: middle;\n",
              "    }\n",
              "\n",
              "    .dataframe tbody tr th {\n",
              "        vertical-align: top;\n",
              "    }\n",
              "\n",
              "    .dataframe thead th {\n",
              "        text-align: right;\n",
              "    }\n",
              "</style>\n",
              "<table border=\"1\" class=\"dataframe\">\n",
              "  <thead>\n",
              "    <tr style=\"text-align: right;\">\n",
              "      <th></th>\n",
              "      <th>position</th>\n",
              "      <th>club</th>\n",
              "      <th>played</th>\n",
              "      <th>won</th>\n",
              "      <th>drawn</th>\n",
              "      <th>lost</th>\n",
              "      <th>gf</th>\n",
              "      <th>ga</th>\n",
              "      <th>gd</th>\n",
              "      <th>points</th>\n",
              "    </tr>\n",
              "  </thead>\n",
              "  <tbody>\n",
              "    <tr>\n",
              "      <th>0</th>\n",
              "      <td>1</td>\n",
              "      <td>Arsenal</td>\n",
              "      <td>7</td>\n",
              "      <td>6</td>\n",
              "      <td>0</td>\n",
              "      <td>1</td>\n",
              "      <td>17</td>\n",
              "      <td>7</td>\n",
              "      <td>10</td>\n",
              "      <td>18</td>\n",
              "    </tr>\n",
              "    <tr>\n",
              "      <th>1</th>\n",
              "      <td>2</td>\n",
              "      <td>Manchester City</td>\n",
              "      <td>7</td>\n",
              "      <td>5</td>\n",
              "      <td>2</td>\n",
              "      <td>0</td>\n",
              "      <td>23</td>\n",
              "      <td>6</td>\n",
              "      <td>17</td>\n",
              "      <td>17</td>\n",
              "    </tr>\n",
              "    <tr>\n",
              "      <th>2</th>\n",
              "      <td>3</td>\n",
              "      <td>Tottenham Hotspur</td>\n",
              "      <td>7</td>\n",
              "      <td>5</td>\n",
              "      <td>2</td>\n",
              "      <td>0</td>\n",
              "      <td>18</td>\n",
              "      <td>7</td>\n",
              "      <td>11</td>\n",
              "      <td>17</td>\n",
              "    </tr>\n",
              "    <tr>\n",
              "      <th>3</th>\n",
              "      <td>4</td>\n",
              "      <td>Brighton and Hove Albion</td>\n",
              "      <td>6</td>\n",
              "      <td>4</td>\n",
              "      <td>1</td>\n",
              "      <td>1</td>\n",
              "      <td>11</td>\n",
              "      <td>5</td>\n",
              "      <td>6</td>\n",
              "      <td>13</td>\n",
              "    </tr>\n",
              "    <tr>\n",
              "      <th>4</th>\n",
              "      <td>5</td>\n",
              "      <td>Manchester United</td>\n",
              "      <td>6</td>\n",
              "      <td>4</td>\n",
              "      <td>0</td>\n",
              "      <td>2</td>\n",
              "      <td>8</td>\n",
              "      <td>8</td>\n",
              "      <td>0</td>\n",
              "      <td>12</td>\n",
              "    </tr>\n",
              "    <tr>\n",
              "      <th>5</th>\n",
              "      <td>6</td>\n",
              "      <td>Fulham</td>\n",
              "      <td>7</td>\n",
              "      <td>3</td>\n",
              "      <td>2</td>\n",
              "      <td>2</td>\n",
              "      <td>12</td>\n",
              "      <td>11</td>\n",
              "      <td>1</td>\n",
              "      <td>11</td>\n",
              "    </tr>\n",
              "    <tr>\n",
              "      <th>6</th>\n",
              "      <td>7</td>\n",
              "      <td>Chelsea</td>\n",
              "      <td>6</td>\n",
              "      <td>3</td>\n",
              "      <td>1</td>\n",
              "      <td>2</td>\n",
              "      <td>8</td>\n",
              "      <td>9</td>\n",
              "      <td>-1</td>\n",
              "      <td>10</td>\n",
              "    </tr>\n",
              "    <tr>\n",
              "      <th>7</th>\n",
              "      <td>8</td>\n",
              "      <td>Liverpool</td>\n",
              "      <td>6</td>\n",
              "      <td>2</td>\n",
              "      <td>3</td>\n",
              "      <td>1</td>\n",
              "      <td>15</td>\n",
              "      <td>6</td>\n",
              "      <td>9</td>\n",
              "      <td>9</td>\n",
              "    </tr>\n",
              "    <tr>\n",
              "      <th>8</th>\n",
              "      <td>9</td>\n",
              "      <td>Brentford</td>\n",
              "      <td>7</td>\n",
              "      <td>2</td>\n",
              "      <td>3</td>\n",
              "      <td>2</td>\n",
              "      <td>15</td>\n",
              "      <td>12</td>\n",
              "      <td>3</td>\n",
              "      <td>9</td>\n",
              "    </tr>\n",
              "    <tr>\n",
              "      <th>9</th>\n",
              "      <td>10</td>\n",
              "      <td>Newcastle United</td>\n",
              "      <td>7</td>\n",
              "      <td>1</td>\n",
              "      <td>5</td>\n",
              "      <td>1</td>\n",
              "      <td>8</td>\n",
              "      <td>7</td>\n",
              "      <td>1</td>\n",
              "      <td>8</td>\n",
              "    </tr>\n",
              "    <tr>\n",
              "      <th>10</th>\n",
              "      <td>11</td>\n",
              "      <td>Leeds United</td>\n",
              "      <td>6</td>\n",
              "      <td>2</td>\n",
              "      <td>2</td>\n",
              "      <td>2</td>\n",
              "      <td>10</td>\n",
              "      <td>10</td>\n",
              "      <td>0</td>\n",
              "      <td>8</td>\n",
              "    </tr>\n",
              "    <tr>\n",
              "      <th>11</th>\n",
              "      <td>12</td>\n",
              "      <td>AFC Bournemouth</td>\n",
              "      <td>7</td>\n",
              "      <td>2</td>\n",
              "      <td>2</td>\n",
              "      <td>3</td>\n",
              "      <td>6</td>\n",
              "      <td>19</td>\n",
              "      <td>-13</td>\n",
              "      <td>8</td>\n",
              "    </tr>\n",
              "    <tr>\n",
              "      <th>12</th>\n",
              "      <td>13</td>\n",
              "      <td>Everton</td>\n",
              "      <td>7</td>\n",
              "      <td>1</td>\n",
              "      <td>4</td>\n",
              "      <td>2</td>\n",
              "      <td>5</td>\n",
              "      <td>6</td>\n",
              "      <td>-1</td>\n",
              "      <td>7</td>\n",
              "    </tr>\n",
              "    <tr>\n",
              "      <th>13</th>\n",
              "      <td>14</td>\n",
              "      <td>Southampton</td>\n",
              "      <td>7</td>\n",
              "      <td>2</td>\n",
              "      <td>1</td>\n",
              "      <td>4</td>\n",
              "      <td>7</td>\n",
              "      <td>11</td>\n",
              "      <td>-4</td>\n",
              "      <td>7</td>\n",
              "    </tr>\n",
              "    <tr>\n",
              "      <th>14</th>\n",
              "      <td>15</td>\n",
              "      <td>Aston Villa</td>\n",
              "      <td>7</td>\n",
              "      <td>2</td>\n",
              "      <td>1</td>\n",
              "      <td>4</td>\n",
              "      <td>6</td>\n",
              "      <td>10</td>\n",
              "      <td>-4</td>\n",
              "      <td>7</td>\n",
              "    </tr>\n",
              "    <tr>\n",
              "      <th>15</th>\n",
              "      <td>16</td>\n",
              "      <td>Crystal Palace</td>\n",
              "      <td>6</td>\n",
              "      <td>1</td>\n",
              "      <td>3</td>\n",
              "      <td>2</td>\n",
              "      <td>7</td>\n",
              "      <td>9</td>\n",
              "      <td>-2</td>\n",
              "      <td>6</td>\n",
              "    </tr>\n",
              "    <tr>\n",
              "      <th>16</th>\n",
              "      <td>17</td>\n",
              "      <td>Wolverhampton Wanderers</td>\n",
              "      <td>7</td>\n",
              "      <td>1</td>\n",
              "      <td>3</td>\n",
              "      <td>3</td>\n",
              "      <td>3</td>\n",
              "      <td>7</td>\n",
              "      <td>-4</td>\n",
              "      <td>6</td>\n",
              "    </tr>\n",
              "    <tr>\n",
              "      <th>17</th>\n",
              "      <td>18</td>\n",
              "      <td>West Ham United</td>\n",
              "      <td>7</td>\n",
              "      <td>1</td>\n",
              "      <td>1</td>\n",
              "      <td>5</td>\n",
              "      <td>3</td>\n",
              "      <td>9</td>\n",
              "      <td>-6</td>\n",
              "      <td>4</td>\n",
              "    </tr>\n",
              "    <tr>\n",
              "      <th>18</th>\n",
              "      <td>19</td>\n",
              "      <td>Nottingham Forest</td>\n",
              "      <td>7</td>\n",
              "      <td>1</td>\n",
              "      <td>1</td>\n",
              "      <td>5</td>\n",
              "      <td>6</td>\n",
              "      <td>17</td>\n",
              "      <td>-11</td>\n",
              "      <td>4</td>\n",
              "    </tr>\n",
              "    <tr>\n",
              "      <th>19</th>\n",
              "      <td>20</td>\n",
              "      <td>Leicester City</td>\n",
              "      <td>7</td>\n",
              "      <td>0</td>\n",
              "      <td>1</td>\n",
              "      <td>6</td>\n",
              "      <td>10</td>\n",
              "      <td>22</td>\n",
              "      <td>-12</td>\n",
              "      <td>1</td>\n",
              "    </tr>\n",
              "  </tbody>\n",
              "</table>\n",
              "</div>\n",
              "      <button class=\"colab-df-convert\" onclick=\"convertToInteractive('df-97e4cb45-f290-411d-8bf0-0bf21adbd855')\"\n",
              "              title=\"Convert this dataframe to an interactive table.\"\n",
              "              style=\"display:none;\">\n",
              "        \n",
              "  <svg xmlns=\"http://www.w3.org/2000/svg\" height=\"24px\"viewBox=\"0 0 24 24\"\n",
              "       width=\"24px\">\n",
              "    <path d=\"M0 0h24v24H0V0z\" fill=\"none\"/>\n",
              "    <path d=\"M18.56 5.44l.94 2.06.94-2.06 2.06-.94-2.06-.94-.94-2.06-.94 2.06-2.06.94zm-11 1L8.5 8.5l.94-2.06 2.06-.94-2.06-.94L8.5 2.5l-.94 2.06-2.06.94zm10 10l.94 2.06.94-2.06 2.06-.94-2.06-.94-.94-2.06-.94 2.06-2.06.94z\"/><path d=\"M17.41 7.96l-1.37-1.37c-.4-.4-.92-.59-1.43-.59-.52 0-1.04.2-1.43.59L10.3 9.45l-7.72 7.72c-.78.78-.78 2.05 0 2.83L4 21.41c.39.39.9.59 1.41.59.51 0 1.02-.2 1.41-.59l7.78-7.78 2.81-2.81c.8-.78.8-2.07 0-2.86zM5.41 20L4 18.59l7.72-7.72 1.47 1.35L5.41 20z\"/>\n",
              "  </svg>\n",
              "      </button>\n",
              "      \n",
              "  <style>\n",
              "    .colab-df-container {\n",
              "      display:flex;\n",
              "      flex-wrap:wrap;\n",
              "      gap: 12px;\n",
              "    }\n",
              "\n",
              "    .colab-df-convert {\n",
              "      background-color: #E8F0FE;\n",
              "      border: none;\n",
              "      border-radius: 50%;\n",
              "      cursor: pointer;\n",
              "      display: none;\n",
              "      fill: #1967D2;\n",
              "      height: 32px;\n",
              "      padding: 0 0 0 0;\n",
              "      width: 32px;\n",
              "    }\n",
              "\n",
              "    .colab-df-convert:hover {\n",
              "      background-color: #E2EBFA;\n",
              "      box-shadow: 0px 1px 2px rgba(60, 64, 67, 0.3), 0px 1px 3px 1px rgba(60, 64, 67, 0.15);\n",
              "      fill: #174EA6;\n",
              "    }\n",
              "\n",
              "    [theme=dark] .colab-df-convert {\n",
              "      background-color: #3B4455;\n",
              "      fill: #D2E3FC;\n",
              "    }\n",
              "\n",
              "    [theme=dark] .colab-df-convert:hover {\n",
              "      background-color: #434B5C;\n",
              "      box-shadow: 0px 1px 3px 1px rgba(0, 0, 0, 0.15);\n",
              "      filter: drop-shadow(0px 1px 2px rgba(0, 0, 0, 0.3));\n",
              "      fill: #FFFFFF;\n",
              "    }\n",
              "  </style>\n",
              "\n",
              "      <script>\n",
              "        const buttonEl =\n",
              "          document.querySelector('#df-97e4cb45-f290-411d-8bf0-0bf21adbd855 button.colab-df-convert');\n",
              "        buttonEl.style.display =\n",
              "          google.colab.kernel.accessAllowed ? 'block' : 'none';\n",
              "\n",
              "        async function convertToInteractive(key) {\n",
              "          const element = document.querySelector('#df-97e4cb45-f290-411d-8bf0-0bf21adbd855');\n",
              "          const dataTable =\n",
              "            await google.colab.kernel.invokeFunction('convertToInteractive',\n",
              "                                                     [key], {});\n",
              "          if (!dataTable) return;\n",
              "\n",
              "          const docLinkHtml = 'Like what you see? Visit the ' +\n",
              "            '<a target=\"_blank\" href=https://colab.research.google.com/notebooks/data_table.ipynb>data table notebook</a>'\n",
              "            + ' to learn more about interactive tables.';\n",
              "          element.innerHTML = '';\n",
              "          dataTable['output_type'] = 'display_data';\n",
              "          await google.colab.output.renderOutput(dataTable, element);\n",
              "          const docLink = document.createElement('div');\n",
              "          docLink.innerHTML = docLinkHtml;\n",
              "          element.appendChild(docLink);\n",
              "        }\n",
              "      </script>\n",
              "    </div>\n",
              "  </div>\n",
              "  "
            ]
          },
          "metadata": {},
          "execution_count": 341
        }
      ]
    },
    {
      "cell_type": "code",
      "source": [],
      "metadata": {
        "id": "V1EbreqcDlj2"
      },
      "execution_count": 341,
      "outputs": []
    }
  ]
}