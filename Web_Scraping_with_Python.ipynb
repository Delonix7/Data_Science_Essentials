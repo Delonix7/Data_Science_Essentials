{
  "nbformat": 4,
  "nbformat_minor": 0,
  "metadata": {
    "colab": {
      "provenance": [],
      "authorship_tag": "ABX9TyMdEPy5tugYkhcvUQB8RWKL",
      "include_colab_link": true
    },
    "kernelspec": {
      "name": "python3",
      "display_name": "Python 3"
    },
    "language_info": {
      "name": "python"
    }
  },
  "cells": [
    {
      "cell_type": "markdown",
      "metadata": {
        "id": "view-in-github",
        "colab_type": "text"
      },
      "source": [
        "<a href=\"https://colab.research.google.com/github/Delonix7/Data_Science_Essentials/blob/main/Web_Scraping_with_Python.ipynb\" target=\"_parent\"><img src=\"https://colab.research.google.com/assets/colab-badge.svg\" alt=\"Open In Colab\"/></a>"
      ]
    },
    {
      "cell_type": "markdown",
      "source": [],
      "metadata": {
        "id": "gscGpkoXruHx"
      }
    },
    {
      "cell_type": "code",
      "execution_count": null,
      "metadata": {
        "id": "JxbbVDJlnnNb"
      },
      "outputs": [],
      "source": [
        "# !pip install bs4 #Installs the package needed for web scraping\n",
        "# !pip install beautifulsoup4\n",
        "# to check the version of BeautifulSoup, import bs4 and run bs4.__version__"
      ]
    },
    {
      "cell_type": "code",
      "source": [
        "from bs4 import BeautifulSoup as bs"
      ],
      "metadata": {
        "id": "64kCcJbqserB"
      },
      "execution_count": 2,
      "outputs": []
    },
    {
      "cell_type": "markdown",
      "source": [
        "Few things to note in the SIMPLE_HTML string below, which essentially applies to all HTML documents. h1 = Header, p = paragraph, ul = unordered list, li = list item"
      ],
      "metadata": {
        "id": "KuVdTwzUuOKF"
      }
    },
    {
      "cell_type": "code",
      "source": [
        "SIMPLE_HTML ='''<html>\n",
        "<head></head>\n",
        "<body>\n",
        "<h1>This is a title</h1>\n",
        "<p class=\"subtitle\">Lorem ipsum dolor sit amet. Consectetur edipiscim elit.</p>\n",
        "<p>Here's another p without a class</p>\n",
        "<ul>\n",
        "  <li>Rolf</li>\n",
        "  <li>Charlie</li>\n",
        "  <li>Jen</li>\n",
        "  <li>Jose</li>\n",
        "</ul>\n",
        "</body>\n",
        "</html>'''"
      ],
      "metadata": {
        "id": "mptBCbrptqjN"
      },
      "execution_count": 11,
      "outputs": []
    },
    {
      "cell_type": "code",
      "source": [
        "# with open ('simple_html.html') as doc: #if html is save in a file, use this code to parse it to BeautifulSoup\n",
        "#   soup = bs(doc, 'html.parser')"
      ],
      "metadata": {
        "id": "LnBZmEXHyYYg"
      },
      "execution_count": 23,
      "outputs": []
    },
    {
      "cell_type": "code",
      "source": [
        "simple_soup = bs(SIMPLE_HTML, 'html.parser') # first argument is the html file or  string to be parsed.\n",
        "#second argument is the type of document being parsed."
      ],
      "metadata": {
        "id": "sKqF4DCRvHpQ"
      },
      "execution_count": 25,
      "outputs": []
    },
    {
      "cell_type": "code",
      "source": [
        "print(simple_soup.find('h1')) #goes throught the html document and find the first h1 tag\n",
        "#use find_all() if you want to find all h1 tags"
      ],
      "metadata": {
        "colab": {
          "base_uri": "https://localhost:8080/"
        },
        "id": "1fvK4gLxyww9",
        "outputId": "0e396fb3-6bf1-463b-ba08-8fa48ed0a2a0"
      },
      "execution_count": 33,
      "outputs": [
        {
          "output_type": "stream",
          "name": "stdout",
          "text": [
            "<h1>This is a title</h1>\n"
          ]
        }
      ]
    },
    {
      "cell_type": "code",
      "source": [
        "print(simple_soup.find('h1').string) #adding .string prints out the content of the tag"
      ],
      "metadata": {
        "colab": {
          "base_uri": "https://localhost:8080/"
        },
        "id": "-6F5VRs3yyK6",
        "outputId": "cca96cad-b3e4-4b19-9a21-e1f93c7da3c5"
      },
      "execution_count": 36,
      "outputs": [
        {
          "output_type": "stream",
          "name": "stdout",
          "text": [
            "This is a title\n"
          ]
        }
      ]
    },
    {
      "cell_type": "code",
      "source": [
        "for f in simple_soup.find_all('li'): # to access the contents of tags found with find_all(), loop over the contents\n",
        "  print(f.string)"
      ],
      "metadata": {
        "id": "J67JlMgL1cyX"
      },
      "execution_count": null,
      "outputs": []
    },
    {
      "cell_type": "markdown",
      "source": [
        "## Let's write some functions to search the html document"
      ],
      "metadata": {
        "id": "e4f08KC22p_t"
      }
    },
    {
      "cell_type": "code",
      "source": [
        "def find_title(): #searches for the first h1 tag and returns its content as a string\n",
        "  h1_tag = simple_soup.find('h1')\n",
        "  return h1_tag.string"
      ],
      "metadata": {
        "id": "5cZx88So1-Gp"
      },
      "execution_count": 59,
      "outputs": []
    },
    {
      "cell_type": "code",
      "source": [
        "find_title()"
      ],
      "metadata": {
        "colab": {
          "base_uri": "https://localhost:8080/",
          "height": 35
        },
        "id": "pnfEUGAd92gG",
        "outputId": "56226dcf-dece-43c4-c034-9df3d55a05b6"
      },
      "execution_count": 72,
      "outputs": [
        {
          "output_type": "execute_result",
          "data": {
            "text/plain": [
              "'This is a title'"
            ],
            "application/vnd.google.colaboratory.intrinsic+json": {
              "type": "string"
            }
          },
          "metadata": {},
          "execution_count": 72
        }
      ]
    },
    {
      "cell_type": "code",
      "source": [
        "def find_list_items(): #searches for all the li tags and returns it as a list of strings\n",
        "  list_items = simple_soup.find_all('li')\n",
        "  list_contents = [items.string for items in list_items]\n",
        "  return list_contents"
      ],
      "metadata": {
        "id": "cdXXqBRU3Em7"
      },
      "execution_count": 60,
      "outputs": []
    },
    {
      "cell_type": "code",
      "source": [
        "find_list_items()"
      ],
      "metadata": {
        "colab": {
          "base_uri": "https://localhost:8080/"
        },
        "id": "jHCJU4MO94UP",
        "outputId": "4bb0b4a6-9809-4a33-c699-4f29c499091b"
      },
      "execution_count": 73,
      "outputs": [
        {
          "output_type": "execute_result",
          "data": {
            "text/plain": [
              "['Rolf', 'Charlie', 'Jen', 'Jose']"
            ]
          },
          "metadata": {},
          "execution_count": 73
        }
      ]
    },
    {
      "cell_type": "code",
      "source": [
        "def find_subtitle(): #searching for a specific tag using a class attribute\n",
        "  paragraph = simple_soup.find('p', {'class': 'subtitle'}) #pass the class attribute to find as a dictionary\n",
        "  return paragraph.string"
      ],
      "metadata": {
        "id": "3RVQUNxb3jfU"
      },
      "execution_count": 63,
      "outputs": []
    },
    {
      "cell_type": "code",
      "source": [
        "find_subtitle()"
      ],
      "metadata": {
        "colab": {
          "base_uri": "https://localhost:8080/",
          "height": 35
        },
        "id": "oyiTJhlF96P7",
        "outputId": "1f3f4f05-8843-4455-f4ac-4602e1c8c07f"
      },
      "execution_count": 74,
      "outputs": [
        {
          "output_type": "execute_result",
          "data": {
            "text/plain": [
              "'Lorem ipsum dolor sit amet. Consectetur edipiscim elit.'"
            ],
            "application/vnd.google.colaboratory.intrinsic+json": {
              "type": "string"
            }
          },
          "metadata": {},
          "execution_count": 74
        }
      ]
    },
    {
      "cell_type": "code",
      "source": [
        "def find_other_paragraph(): #searches for all paragraphs without the attribute class = 'subtitle'\n",
        "  paragraphs = simple_soup.find_all('p') #finds all p tags\n",
        "  other_paragraph = [p.string for p in paragraphs if 'subtitle' not in p.attrs.get('class', [])]\n",
        "  # creates a list with list comprehension. Loops over the contents of paragraphs and finds the paragraphs\n",
        "  # with subtitle not in p.attrs.get('class', []) --> the get method returns the value for the key 'class'.\n",
        "  #if the key 'class' is not found, it returns None. The second arg [] will be returned if value is None.\n",
        "  return other_paragraph"
      ],
      "metadata": {
        "id": "a7E8DDCi51Wm"
      },
      "execution_count": 70,
      "outputs": []
    },
    {
      "cell_type": "code",
      "source": [
        "find_other_paragraph()"
      ],
      "metadata": {
        "colab": {
          "base_uri": "https://localhost:8080/"
        },
        "id": "DlN3mhAw974F",
        "outputId": "b4755e98-d0cd-4791-de74-754fe6e40708"
      },
      "execution_count": 75,
      "outputs": [
        {
          "output_type": "execute_result",
          "data": {
            "text/plain": [
              "[\"Here's another p without a class\"]"
            ]
          },
          "metadata": {},
          "execution_count": 75
        }
      ]
    },
    {
      "cell_type": "code",
      "source": [],
      "metadata": {
        "id": "5MqsrOKf8U09"
      },
      "execution_count": null,
      "outputs": []
    }
  ]
}